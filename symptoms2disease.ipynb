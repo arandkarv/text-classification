{
 "cells": [
  {
   "cell_type": "code",
   "execution_count": 1,
   "id": "0db69a3c",
   "metadata": {
    "_cell_guid": "b1076dfc-b9ad-4769-8c92-a6c4dae69d19",
    "_uuid": "8f2839f25d086af736a60e9eeb907d3b93b6e0e5",
    "execution": {
     "iopub.execute_input": "2023-04-22T10:23:22.572737Z",
     "iopub.status.busy": "2023-04-22T10:23:22.572335Z",
     "iopub.status.idle": "2023-04-22T10:23:22.591963Z",
     "shell.execute_reply": "2023-04-22T10:23:22.591079Z"
    },
    "papermill": {
     "duration": 0.03294,
     "end_time": "2023-04-22T10:23:22.594412",
     "exception": false,
     "start_time": "2023-04-22T10:23:22.561472",
     "status": "completed"
    },
    "tags": []
   },
   "outputs": [
    {
     "name": "stdout",
     "output_type": "stream",
     "text": [
      "/kaggle/input/symptom2disease/Symptom2Disease.csv\n"
     ]
    }
   ],
   "source": [
    "# This Python 3 environment comes with many helpful analytics libraries installed\n",
    "# It is defined by the kaggle/python Docker image: https://github.com/kaggle/docker-python\n",
    "# For example, here's several helpful packages to load\n",
    "\n",
    "import numpy as np # linear algebra\n",
    "import pandas as pd # data processing, CSV file I/O (e.g. pd.read_csv)\n",
    "\n",
    "# Input data files are available in the read-only \"../input/\" directory\n",
    "# For example, running this (by clicking run or pressing Shift+Enter) will list all files under the input directory\n",
    "\n",
    "import os\n",
    "for dirname, _, filenames in os.walk('/kaggle/input'):\n",
    "    for filename in filenames:\n",
    "        print(os.path.join(dirname, filename))\n",
    "\n",
    "# You can write up to 20GB to the current directory (/kaggle/working/) that gets preserved as output when you create a version using \"Save & Run All\" \n",
    "# You can also write temporary files to /kaggle/temp/, but they won't be saved outside of the current session"
   ]
  },
  {
   "cell_type": "code",
   "execution_count": 2,
   "id": "3fc2dcbc",
   "metadata": {
    "execution": {
     "iopub.execute_input": "2023-04-22T10:23:22.611217Z",
     "iopub.status.busy": "2023-04-22T10:23:22.610752Z",
     "iopub.status.idle": "2023-04-22T10:23:22.638177Z",
     "shell.execute_reply": "2023-04-22T10:23:22.636831Z"
    },
    "papermill": {
     "duration": 0.039336,
     "end_time": "2023-04-22T10:23:22.641400",
     "exception": false,
     "start_time": "2023-04-22T10:23:22.602064",
     "status": "completed"
    },
    "tags": []
   },
   "outputs": [],
   "source": [
    "df=pd.read_csv('/kaggle/input/symptom2disease/Symptom2Disease.csv',header=0,names=['label','text'])"
   ]
  },
  {
   "cell_type": "code",
   "execution_count": 3,
   "id": "18fc8372",
   "metadata": {
    "execution": {
     "iopub.execute_input": "2023-04-22T10:23:22.658883Z",
     "iopub.status.busy": "2023-04-22T10:23:22.657729Z",
     "iopub.status.idle": "2023-04-22T10:23:22.666698Z",
     "shell.execute_reply": "2023-04-22T10:23:22.665501Z"
    },
    "papermill": {
     "duration": 0.019982,
     "end_time": "2023-04-22T10:23:22.668944",
     "exception": false,
     "start_time": "2023-04-22T10:23:22.648962",
     "status": "completed"
    },
    "tags": []
   },
   "outputs": [
    {
     "data": {
      "text/plain": [
       "(1200, 2)"
      ]
     },
     "execution_count": 3,
     "metadata": {},
     "output_type": "execute_result"
    }
   ],
   "source": [
    "df.head(10)\n",
    "df.shape\n",
    "#print(df.iloc[:,0])"
   ]
  },
  {
   "cell_type": "code",
   "execution_count": 4,
   "id": "e87ff821",
   "metadata": {
    "execution": {
     "iopub.execute_input": "2023-04-22T10:23:22.686731Z",
     "iopub.status.busy": "2023-04-22T10:23:22.686354Z",
     "iopub.status.idle": "2023-04-22T10:23:22.699149Z",
     "shell.execute_reply": "2023-04-22T10:23:22.698247Z"
    },
    "papermill": {
     "duration": 0.024014,
     "end_time": "2023-04-22T10:23:22.701199",
     "exception": false,
     "start_time": "2023-04-22T10:23:22.677185",
     "status": "completed"
    },
    "tags": []
   },
   "outputs": [
    {
     "data": {
      "text/plain": [
       "label    0\n",
       "text     0\n",
       "dtype: int64"
      ]
     },
     "execution_count": 4,
     "metadata": {},
     "output_type": "execute_result"
    }
   ],
   "source": [
    "df.isnull().sum()"
   ]
  },
  {
   "cell_type": "code",
   "execution_count": 5,
   "id": "9c878924",
   "metadata": {
    "execution": {
     "iopub.execute_input": "2023-04-22T10:23:22.718982Z",
     "iopub.status.busy": "2023-04-22T10:23:22.717957Z",
     "iopub.status.idle": "2023-04-22T10:23:22.729278Z",
     "shell.execute_reply": "2023-04-22T10:23:22.727947Z"
    },
    "papermill": {
     "duration": 0.0227,
     "end_time": "2023-04-22T10:23:22.731593",
     "exception": false,
     "start_time": "2023-04-22T10:23:22.708893",
     "status": "completed"
    },
    "tags": []
   },
   "outputs": [],
   "source": [
    "df['label']=df['label'].fillna(' ')\n",
    "df['text']=df['text'].fillna(' ')"
   ]
  },
  {
   "cell_type": "code",
   "execution_count": 6,
   "id": "f4038c6b",
   "metadata": {
    "execution": {
     "iopub.execute_input": "2023-04-22T10:23:22.749490Z",
     "iopub.status.busy": "2023-04-22T10:23:22.748399Z",
     "iopub.status.idle": "2023-04-22T10:23:22.755046Z",
     "shell.execute_reply": "2023-04-22T10:23:22.753741Z"
    },
    "papermill": {
     "duration": 0.018201,
     "end_time": "2023-04-22T10:23:22.757593",
     "exception": false,
     "start_time": "2023-04-22T10:23:22.739392",
     "status": "completed"
    },
    "tags": []
   },
   "outputs": [],
   "source": [
    "import re\n",
    "import string\n",
    "def remove_punc(text):\n",
    "    punc=(string.punctuation)\n",
    "#     print(punc) # !\"#$%&'()*+,-./:;<=>?@[\\]^_`{|}~\n",
    "    ans = text.translate(str.maketrans('', '', punc))\n",
    "    return ans\n"
   ]
  },
  {
   "cell_type": "code",
   "execution_count": 7,
   "id": "76231276",
   "metadata": {
    "execution": {
     "iopub.execute_input": "2023-04-22T10:23:22.775199Z",
     "iopub.status.busy": "2023-04-22T10:23:22.774417Z",
     "iopub.status.idle": "2023-04-22T10:23:22.793174Z",
     "shell.execute_reply": "2023-04-22T10:23:22.791969Z"
    },
    "papermill": {
     "duration": 0.030306,
     "end_time": "2023-04-22T10:23:22.795687",
     "exception": false,
     "start_time": "2023-04-22T10:23:22.765381",
     "status": "completed"
    },
    "tags": []
   },
   "outputs": [
    {
     "data": {
      "text/plain": [
       "0      i have been experiencing a skin rash on my arm...\n",
       "1      my skin has been peeling especially on my knee...\n",
       "2      i have been experiencing joint pain in my fing...\n",
       "3      there is a silver like dusting on my skin espe...\n",
       "4      my nails have small dents or pits in them and ...\n",
       "                             ...                        \n",
       "295    im shaking and trembling all over ive lost my ...\n",
       "296    particularly in the crevices of my skin i have...\n",
       "297    i regularly experience these intense urges and...\n",
       "298    i have trouble breathing especially outside i ...\n",
       "299    i constantly sneeze and have a dry cough my in...\n",
       "Name: text, Length: 1200, dtype: object"
      ]
     },
     "execution_count": 7,
     "metadata": {},
     "output_type": "execute_result"
    }
   ],
   "source": [
    "df['text']=df['text'].apply(remove_punc)\n",
    "df['text']=df['text'].str.lower()\n",
    "df['text']"
   ]
  },
  {
   "cell_type": "code",
   "execution_count": 8,
   "id": "f22c5c27",
   "metadata": {
    "execution": {
     "iopub.execute_input": "2023-04-22T10:23:22.814082Z",
     "iopub.status.busy": "2023-04-22T10:23:22.813637Z",
     "iopub.status.idle": "2023-04-22T10:23:24.628822Z",
     "shell.execute_reply": "2023-04-22T10:23:24.627425Z"
    },
    "papermill": {
     "duration": 1.827172,
     "end_time": "2023-04-22T10:23:24.631594",
     "exception": false,
     "start_time": "2023-04-22T10:23:22.804422",
     "status": "completed"
    },
    "tags": []
   },
   "outputs": [],
   "source": [
    "from nltk.corpus import stopwords\n",
    "def remove_stopwords(text):\n",
    "    temp=stopwords.words('english')\n",
    "    new_text=[]\n",
    "    for word in text.split():\n",
    "        if word in temp:\n",
    "            new_text.append('')\n",
    "        else:\n",
    "            new_text.append(word)\n",
    "    x=new_text[:]\n",
    "    #print(x)\n",
    "    new_text.clear()\n",
    "    return ' '.join(x)\n",
    "df['text']=df['text'].apply(remove_stopwords)"
   ]
  },
  {
   "cell_type": "code",
   "execution_count": 9,
   "id": "7811d247",
   "metadata": {
    "execution": {
     "iopub.execute_input": "2023-04-22T10:23:24.649633Z",
     "iopub.status.busy": "2023-04-22T10:23:24.649205Z",
     "iopub.status.idle": "2023-04-22T10:23:24.860544Z",
     "shell.execute_reply": "2023-04-22T10:23:24.859341Z"
    },
    "papermill": {
     "duration": 0.224006,
     "end_time": "2023-04-22T10:23:24.863593",
     "exception": false,
     "start_time": "2023-04-22T10:23:24.639587",
     "status": "completed"
    },
    "tags": []
   },
   "outputs": [],
   "source": [
    "from nltk.tokenize import word_tokenize,sent_tokenize\n",
    "df['text']=df['text'].map(lambda x: word_tokenize(x))"
   ]
  },
  {
   "cell_type": "code",
   "execution_count": 10,
   "id": "fa86e4c3",
   "metadata": {
    "execution": {
     "iopub.execute_input": "2023-04-22T10:23:24.881445Z",
     "iopub.status.busy": "2023-04-22T10:23:24.880326Z",
     "iopub.status.idle": "2023-04-22T10:23:24.885500Z",
     "shell.execute_reply": "2023-04-22T10:23:24.884563Z"
    },
    "papermill": {
     "duration": 0.016241,
     "end_time": "2023-04-22T10:23:24.887620",
     "exception": false,
     "start_time": "2023-04-22T10:23:24.871379",
     "status": "completed"
    },
    "tags": []
   },
   "outputs": [],
   "source": [
    "text=df['text'].tolist()\n"
   ]
  },
  {
   "cell_type": "code",
   "execution_count": 11,
   "id": "6938d205",
   "metadata": {
    "execution": {
     "iopub.execute_input": "2023-04-22T10:23:24.905367Z",
     "iopub.status.busy": "2023-04-22T10:23:24.904406Z",
     "iopub.status.idle": "2023-04-22T10:23:25.663212Z",
     "shell.execute_reply": "2023-04-22T10:23:25.662244Z"
    },
    "papermill": {
     "duration": 0.7705,
     "end_time": "2023-04-22T10:23:25.665904",
     "exception": false,
     "start_time": "2023-04-22T10:23:24.895404",
     "status": "completed"
    },
    "tags": []
   },
   "outputs": [],
   "source": [
    "from gensim.models import Word2Vec\n",
    "model=Word2Vec(sentences=text,min_count=5,vector_size=100,window=10,sg=1)\n"
   ]
  },
  {
   "cell_type": "code",
   "execution_count": 12,
   "id": "f406c143",
   "metadata": {
    "execution": {
     "iopub.execute_input": "2023-04-22T10:23:25.683494Z",
     "iopub.status.busy": "2023-04-22T10:23:25.683058Z",
     "iopub.status.idle": "2023-04-22T10:23:25.697808Z",
     "shell.execute_reply": "2023-04-22T10:23:25.696340Z"
    },
    "papermill": {
     "duration": 0.027984,
     "end_time": "2023-04-22T10:23:25.701825",
     "exception": false,
     "start_time": "2023-04-22T10:23:25.673841",
     "status": "completed"
    },
    "tags": []
   },
   "outputs": [
    {
     "data": {
      "text/plain": [
       "[('pounding', 0.9919207692146301),\n",
       " ('beating', 0.9906245470046997),\n",
       " ('fast', 0.9891361594200134),\n",
       " ('chilly', 0.9879224300384521),\n",
       " ('catch', 0.9877020716667175),\n",
       " ('mucous', 0.981188178062439),\n",
       " ('away', 0.9791079759597778),\n",
       " ('aches', 0.9781376719474792),\n",
       " ('wont', 0.9777553677558899),\n",
       " ('breathe', 0.9747432470321655)]"
      ]
     },
     "execution_count": 12,
     "metadata": {},
     "output_type": "execute_result"
    }
   ],
   "source": [
    "model.wv.most_similar('cold')"
   ]
  },
  {
   "cell_type": "code",
   "execution_count": 13,
   "id": "35790c41",
   "metadata": {
    "execution": {
     "iopub.execute_input": "2023-04-22T10:23:25.730847Z",
     "iopub.status.busy": "2023-04-22T10:23:25.730280Z",
     "iopub.status.idle": "2023-04-22T10:23:25.739653Z",
     "shell.execute_reply": "2023-04-22T10:23:25.738365Z"
    },
    "papermill": {
     "duration": 0.032156,
     "end_time": "2023-04-22T10:23:25.747838",
     "exception": false,
     "start_time": "2023-04-22T10:23:25.715682",
     "status": "completed"
    },
    "tags": []
   },
   "outputs": [
    {
     "data": {
      "text/plain": [
       "0.9270393"
      ]
     },
     "execution_count": 13,
     "metadata": {},
     "output_type": "execute_result"
    }
   ],
   "source": [
    "model.wv.similarity('cold','cough')"
   ]
  },
  {
   "cell_type": "code",
   "execution_count": 14,
   "id": "6b35d1f0",
   "metadata": {
    "execution": {
     "iopub.execute_input": "2023-04-22T10:23:25.776142Z",
     "iopub.status.busy": "2023-04-22T10:23:25.775557Z",
     "iopub.status.idle": "2023-04-22T10:23:25.834069Z",
     "shell.execute_reply": "2023-04-22T10:23:25.833090Z"
    },
    "papermill": {
     "duration": 0.075823,
     "end_time": "2023-04-22T10:23:25.836662",
     "exception": false,
     "start_time": "2023-04-22T10:23:25.760839",
     "status": "completed"
    },
    "tags": []
   },
   "outputs": [
    {
     "data": {
      "text/html": [
       "<div>\n",
       "<style scoped>\n",
       "    .dataframe tbody tr th:only-of-type {\n",
       "        vertical-align: middle;\n",
       "    }\n",
       "\n",
       "    .dataframe tbody tr th {\n",
       "        vertical-align: top;\n",
       "    }\n",
       "\n",
       "    .dataframe thead th {\n",
       "        text-align: right;\n",
       "    }\n",
       "</style>\n",
       "<table border=\"1\" class=\"dataframe\">\n",
       "  <thead>\n",
       "    <tr style=\"text-align: right;\">\n",
       "      <th></th>\n",
       "      <th>0</th>\n",
       "      <th>1</th>\n",
       "      <th>2</th>\n",
       "      <th>3</th>\n",
       "      <th>4</th>\n",
       "      <th>5</th>\n",
       "      <th>6</th>\n",
       "      <th>7</th>\n",
       "      <th>8</th>\n",
       "      <th>9</th>\n",
       "      <th>...</th>\n",
       "      <th>90</th>\n",
       "      <th>91</th>\n",
       "      <th>92</th>\n",
       "      <th>93</th>\n",
       "      <th>94</th>\n",
       "      <th>95</th>\n",
       "      <th>96</th>\n",
       "      <th>97</th>\n",
       "      <th>98</th>\n",
       "      <th>99</th>\n",
       "    </tr>\n",
       "  </thead>\n",
       "  <tbody>\n",
       "    <tr>\n",
       "      <th>ive</th>\n",
       "      <td>-0.272201</td>\n",
       "      <td>0.087531</td>\n",
       "      <td>0.324802</td>\n",
       "      <td>0.081753</td>\n",
       "      <td>0.018659</td>\n",
       "      <td>-0.204038</td>\n",
       "      <td>-0.114618</td>\n",
       "      <td>0.267643</td>\n",
       "      <td>-0.099066</td>\n",
       "      <td>-0.130223</td>\n",
       "      <td>...</td>\n",
       "      <td>0.445006</td>\n",
       "      <td>-0.044510</td>\n",
       "      <td>-0.029979</td>\n",
       "      <td>-0.200946</td>\n",
       "      <td>0.239317</td>\n",
       "      <td>0.180466</td>\n",
       "      <td>0.093169</td>\n",
       "      <td>-0.274801</td>\n",
       "      <td>0.255289</td>\n",
       "      <td>-0.117310</td>\n",
       "    </tr>\n",
       "    <tr>\n",
       "      <th>also</th>\n",
       "      <td>-0.303081</td>\n",
       "      <td>0.049398</td>\n",
       "      <td>0.315144</td>\n",
       "      <td>0.112512</td>\n",
       "      <td>-0.093858</td>\n",
       "      <td>0.001911</td>\n",
       "      <td>-0.090159</td>\n",
       "      <td>0.373028</td>\n",
       "      <td>-0.137773</td>\n",
       "      <td>-0.113235</td>\n",
       "      <td>...</td>\n",
       "      <td>0.342126</td>\n",
       "      <td>-0.120149</td>\n",
       "      <td>0.058996</td>\n",
       "      <td>-0.174617</td>\n",
       "      <td>0.155111</td>\n",
       "      <td>0.208613</td>\n",
       "      <td>-0.017619</td>\n",
       "      <td>-0.162016</td>\n",
       "      <td>0.307496</td>\n",
       "      <td>-0.069764</td>\n",
       "    </tr>\n",
       "    <tr>\n",
       "      <th>skin</th>\n",
       "      <td>-0.369765</td>\n",
       "      <td>0.072629</td>\n",
       "      <td>0.449794</td>\n",
       "      <td>0.278232</td>\n",
       "      <td>-0.247325</td>\n",
       "      <td>0.313669</td>\n",
       "      <td>0.003681</td>\n",
       "      <td>0.634091</td>\n",
       "      <td>-0.166825</td>\n",
       "      <td>-0.019338</td>\n",
       "      <td>...</td>\n",
       "      <td>0.279112</td>\n",
       "      <td>-0.159782</td>\n",
       "      <td>0.294544</td>\n",
       "      <td>-0.152296</td>\n",
       "      <td>0.240836</td>\n",
       "      <td>0.331277</td>\n",
       "      <td>-0.146151</td>\n",
       "      <td>-0.006448</td>\n",
       "      <td>0.424368</td>\n",
       "      <td>-0.064738</td>\n",
       "    </tr>\n",
       "    <tr>\n",
       "      <th>lot</th>\n",
       "      <td>-0.269967</td>\n",
       "      <td>0.031771</td>\n",
       "      <td>0.436489</td>\n",
       "      <td>0.017675</td>\n",
       "      <td>0.062688</td>\n",
       "      <td>-0.135007</td>\n",
       "      <td>-0.156063</td>\n",
       "      <td>0.314621</td>\n",
       "      <td>-0.133195</td>\n",
       "      <td>-0.139218</td>\n",
       "      <td>...</td>\n",
       "      <td>0.423086</td>\n",
       "      <td>-0.022955</td>\n",
       "      <td>0.026316</td>\n",
       "      <td>-0.171832</td>\n",
       "      <td>0.244354</td>\n",
       "      <td>0.203719</td>\n",
       "      <td>0.068702</td>\n",
       "      <td>-0.171458</td>\n",
       "      <td>0.260242</td>\n",
       "      <td>-0.041886</td>\n",
       "    </tr>\n",
       "    <tr>\n",
       "      <th>really</th>\n",
       "      <td>-0.417961</td>\n",
       "      <td>0.097959</td>\n",
       "      <td>0.387492</td>\n",
       "      <td>0.059235</td>\n",
       "      <td>0.068269</td>\n",
       "      <td>-0.112169</td>\n",
       "      <td>-0.230219</td>\n",
       "      <td>0.256560</td>\n",
       "      <td>-0.278901</td>\n",
       "      <td>-0.136105</td>\n",
       "      <td>...</td>\n",
       "      <td>0.527708</td>\n",
       "      <td>-0.047613</td>\n",
       "      <td>0.120182</td>\n",
       "      <td>-0.186463</td>\n",
       "      <td>0.225960</td>\n",
       "      <td>0.130185</td>\n",
       "      <td>0.106302</td>\n",
       "      <td>-0.280640</td>\n",
       "      <td>0.398086</td>\n",
       "      <td>-0.029301</td>\n",
       "    </tr>\n",
       "    <tr>\n",
       "      <th>...</th>\n",
       "      <td>...</td>\n",
       "      <td>...</td>\n",
       "      <td>...</td>\n",
       "      <td>...</td>\n",
       "      <td>...</td>\n",
       "      <td>...</td>\n",
       "      <td>...</td>\n",
       "      <td>...</td>\n",
       "      <td>...</td>\n",
       "      <td>...</td>\n",
       "      <td>...</td>\n",
       "      <td>...</td>\n",
       "      <td>...</td>\n",
       "      <td>...</td>\n",
       "      <td>...</td>\n",
       "      <td>...</td>\n",
       "      <td>...</td>\n",
       "      <td>...</td>\n",
       "      <td>...</td>\n",
       "      <td>...</td>\n",
       "      <td>...</td>\n",
       "    </tr>\n",
       "    <tr>\n",
       "      <th>suffer</th>\n",
       "      <td>-0.241252</td>\n",
       "      <td>0.081713</td>\n",
       "      <td>0.034171</td>\n",
       "      <td>0.101259</td>\n",
       "      <td>-0.069004</td>\n",
       "      <td>-0.046937</td>\n",
       "      <td>-0.038286</td>\n",
       "      <td>0.302220</td>\n",
       "      <td>-0.082353</td>\n",
       "      <td>-0.005418</td>\n",
       "      <td>...</td>\n",
       "      <td>0.185436</td>\n",
       "      <td>0.063717</td>\n",
       "      <td>-0.038441</td>\n",
       "      <td>-0.050555</td>\n",
       "      <td>0.222365</td>\n",
       "      <td>0.255986</td>\n",
       "      <td>0.040539</td>\n",
       "      <td>-0.161981</td>\n",
       "      <td>0.170141</td>\n",
       "      <td>-0.098461</td>\n",
       "    </tr>\n",
       "    <tr>\n",
       "      <th>excessively</th>\n",
       "      <td>-0.264949</td>\n",
       "      <td>0.046773</td>\n",
       "      <td>0.145446</td>\n",
       "      <td>0.064084</td>\n",
       "      <td>-0.081488</td>\n",
       "      <td>-0.094405</td>\n",
       "      <td>-0.086087</td>\n",
       "      <td>0.356724</td>\n",
       "      <td>-0.050838</td>\n",
       "      <td>-0.035569</td>\n",
       "      <td>...</td>\n",
       "      <td>0.289995</td>\n",
       "      <td>0.004439</td>\n",
       "      <td>-0.070748</td>\n",
       "      <td>-0.111314</td>\n",
       "      <td>0.215717</td>\n",
       "      <td>0.278658</td>\n",
       "      <td>0.052127</td>\n",
       "      <td>-0.189339</td>\n",
       "      <td>0.208737</td>\n",
       "      <td>-0.141752</td>\n",
       "    </tr>\n",
       "    <tr>\n",
       "      <th>seeing</th>\n",
       "      <td>-0.201335</td>\n",
       "      <td>0.063042</td>\n",
       "      <td>0.040382</td>\n",
       "      <td>0.090988</td>\n",
       "      <td>-0.049730</td>\n",
       "      <td>-0.051676</td>\n",
       "      <td>-0.055593</td>\n",
       "      <td>0.256631</td>\n",
       "      <td>-0.075949</td>\n",
       "      <td>-0.005861</td>\n",
       "      <td>...</td>\n",
       "      <td>0.183125</td>\n",
       "      <td>0.052828</td>\n",
       "      <td>-0.039062</td>\n",
       "      <td>-0.046532</td>\n",
       "      <td>0.220553</td>\n",
       "      <td>0.227676</td>\n",
       "      <td>0.058840</td>\n",
       "      <td>-0.144409</td>\n",
       "      <td>0.147171</td>\n",
       "      <td>-0.101846</td>\n",
       "    </tr>\n",
       "    <tr>\n",
       "      <th>worrying</th>\n",
       "      <td>-0.257980</td>\n",
       "      <td>0.064575</td>\n",
       "      <td>0.104076</td>\n",
       "      <td>0.070815</td>\n",
       "      <td>-0.063689</td>\n",
       "      <td>-0.019535</td>\n",
       "      <td>-0.065165</td>\n",
       "      <td>0.313899</td>\n",
       "      <td>-0.059179</td>\n",
       "      <td>-0.008002</td>\n",
       "      <td>...</td>\n",
       "      <td>0.211570</td>\n",
       "      <td>0.014710</td>\n",
       "      <td>-0.001582</td>\n",
       "      <td>-0.061000</td>\n",
       "      <td>0.197259</td>\n",
       "      <td>0.244519</td>\n",
       "      <td>0.039539</td>\n",
       "      <td>-0.128131</td>\n",
       "      <td>0.177314</td>\n",
       "      <td>-0.077644</td>\n",
       "    </tr>\n",
       "    <tr>\n",
       "      <th>better</th>\n",
       "      <td>-0.278815</td>\n",
       "      <td>0.071010</td>\n",
       "      <td>0.064410</td>\n",
       "      <td>0.085520</td>\n",
       "      <td>-0.077533</td>\n",
       "      <td>-0.031679</td>\n",
       "      <td>-0.060269</td>\n",
       "      <td>0.377908</td>\n",
       "      <td>-0.042551</td>\n",
       "      <td>0.027862</td>\n",
       "      <td>...</td>\n",
       "      <td>0.210767</td>\n",
       "      <td>0.066146</td>\n",
       "      <td>-0.020937</td>\n",
       "      <td>-0.047647</td>\n",
       "      <td>0.239645</td>\n",
       "      <td>0.300798</td>\n",
       "      <td>0.055715</td>\n",
       "      <td>-0.152920</td>\n",
       "      <td>0.177356</td>\n",
       "      <td>-0.118466</td>\n",
       "    </tr>\n",
       "  </tbody>\n",
       "</table>\n",
       "<p>633 rows × 100 columns</p>\n",
       "</div>"
      ],
      "text/plain": [
       "                   0         1         2         3         4         5   \\\n",
       "ive         -0.272201  0.087531  0.324802  0.081753  0.018659 -0.204038   \n",
       "also        -0.303081  0.049398  0.315144  0.112512 -0.093858  0.001911   \n",
       "skin        -0.369765  0.072629  0.449794  0.278232 -0.247325  0.313669   \n",
       "lot         -0.269967  0.031771  0.436489  0.017675  0.062688 -0.135007   \n",
       "really      -0.417961  0.097959  0.387492  0.059235  0.068269 -0.112169   \n",
       "...               ...       ...       ...       ...       ...       ...   \n",
       "suffer      -0.241252  0.081713  0.034171  0.101259 -0.069004 -0.046937   \n",
       "excessively -0.264949  0.046773  0.145446  0.064084 -0.081488 -0.094405   \n",
       "seeing      -0.201335  0.063042  0.040382  0.090988 -0.049730 -0.051676   \n",
       "worrying    -0.257980  0.064575  0.104076  0.070815 -0.063689 -0.019535   \n",
       "better      -0.278815  0.071010  0.064410  0.085520 -0.077533 -0.031679   \n",
       "\n",
       "                   6         7         8         9   ...        90        91  \\\n",
       "ive         -0.114618  0.267643 -0.099066 -0.130223  ...  0.445006 -0.044510   \n",
       "also        -0.090159  0.373028 -0.137773 -0.113235  ...  0.342126 -0.120149   \n",
       "skin         0.003681  0.634091 -0.166825 -0.019338  ...  0.279112 -0.159782   \n",
       "lot         -0.156063  0.314621 -0.133195 -0.139218  ...  0.423086 -0.022955   \n",
       "really      -0.230219  0.256560 -0.278901 -0.136105  ...  0.527708 -0.047613   \n",
       "...               ...       ...       ...       ...  ...       ...       ...   \n",
       "suffer      -0.038286  0.302220 -0.082353 -0.005418  ...  0.185436  0.063717   \n",
       "excessively -0.086087  0.356724 -0.050838 -0.035569  ...  0.289995  0.004439   \n",
       "seeing      -0.055593  0.256631 -0.075949 -0.005861  ...  0.183125  0.052828   \n",
       "worrying    -0.065165  0.313899 -0.059179 -0.008002  ...  0.211570  0.014710   \n",
       "better      -0.060269  0.377908 -0.042551  0.027862  ...  0.210767  0.066146   \n",
       "\n",
       "                   92        93        94        95        96        97  \\\n",
       "ive         -0.029979 -0.200946  0.239317  0.180466  0.093169 -0.274801   \n",
       "also         0.058996 -0.174617  0.155111  0.208613 -0.017619 -0.162016   \n",
       "skin         0.294544 -0.152296  0.240836  0.331277 -0.146151 -0.006448   \n",
       "lot          0.026316 -0.171832  0.244354  0.203719  0.068702 -0.171458   \n",
       "really       0.120182 -0.186463  0.225960  0.130185  0.106302 -0.280640   \n",
       "...               ...       ...       ...       ...       ...       ...   \n",
       "suffer      -0.038441 -0.050555  0.222365  0.255986  0.040539 -0.161981   \n",
       "excessively -0.070748 -0.111314  0.215717  0.278658  0.052127 -0.189339   \n",
       "seeing      -0.039062 -0.046532  0.220553  0.227676  0.058840 -0.144409   \n",
       "worrying    -0.001582 -0.061000  0.197259  0.244519  0.039539 -0.128131   \n",
       "better      -0.020937 -0.047647  0.239645  0.300798  0.055715 -0.152920   \n",
       "\n",
       "                   98        99  \n",
       "ive          0.255289 -0.117310  \n",
       "also         0.307496 -0.069764  \n",
       "skin         0.424368 -0.064738  \n",
       "lot          0.260242 -0.041886  \n",
       "really       0.398086 -0.029301  \n",
       "...               ...       ...  \n",
       "suffer       0.170141 -0.098461  \n",
       "excessively  0.208737 -0.141752  \n",
       "seeing       0.147171 -0.101846  \n",
       "worrying     0.177314 -0.077644  \n",
       "better       0.177356 -0.118466  \n",
       "\n",
       "[633 rows x 100 columns]"
      ]
     },
     "execution_count": 14,
     "metadata": {},
     "output_type": "execute_result"
    }
   ],
   "source": [
    "#to ccreate a data frame using word2vec were columns represents dimensonality\n",
    "vocab=model.wv.index_to_key\n",
    "new_df=pd.DataFrame(model.wv.vectors,index=vocab)\n",
    "new_df"
   ]
  },
  {
   "cell_type": "code",
   "execution_count": 15,
   "id": "2763df9b",
   "metadata": {
    "execution": {
     "iopub.execute_input": "2023-04-22T10:23:25.856214Z",
     "iopub.status.busy": "2023-04-22T10:23:25.855518Z",
     "iopub.status.idle": "2023-04-22T10:23:25.861694Z",
     "shell.execute_reply": "2023-04-22T10:23:25.860379Z"
    },
    "papermill": {
     "duration": 0.019223,
     "end_time": "2023-04-22T10:23:25.864626",
     "exception": false,
     "start_time": "2023-04-22T10:23:25.845403",
     "status": "completed"
    },
    "tags": []
   },
   "outputs": [
    {
     "name": "stdout",
     "output_type": "stream",
     "text": [
      "<class 'numpy.ndarray'>\n"
     ]
    }
   ],
   "source": [
    "print(type(model.wv.vectors[0]))"
   ]
  },
  {
   "cell_type": "code",
   "execution_count": 16,
   "id": "9e6f81ff",
   "metadata": {
    "execution": {
     "iopub.execute_input": "2023-04-22T10:23:25.883478Z",
     "iopub.status.busy": "2023-04-22T10:23:25.883059Z",
     "iopub.status.idle": "2023-04-22T10:23:25.888225Z",
     "shell.execute_reply": "2023-04-22T10:23:25.886958Z"
    },
    "papermill": {
     "duration": 0.017284,
     "end_time": "2023-04-22T10:23:25.890540",
     "exception": false,
     "start_time": "2023-04-22T10:23:25.873256",
     "status": "completed"
    },
    "tags": []
   },
   "outputs": [],
   "source": [
    "y = model.wv.index_to_key"
   ]
  },
  {
   "cell_type": "code",
   "execution_count": 17,
   "id": "dcc4f983",
   "metadata": {
    "execution": {
     "iopub.execute_input": "2023-04-22T10:23:25.910115Z",
     "iopub.status.busy": "2023-04-22T10:23:25.909221Z",
     "iopub.status.idle": "2023-04-22T10:23:39.273692Z",
     "shell.execute_reply": "2023-04-22T10:23:39.272396Z"
    },
    "papermill": {
     "duration": 13.377718,
     "end_time": "2023-04-22T10:23:39.276703",
     "exception": false,
     "start_time": "2023-04-22T10:23:25.898985",
     "status": "completed"
    },
    "tags": []
   },
   "outputs": [
    {
     "name": "stderr",
     "output_type": "stream",
     "text": [
      "/opt/conda/lib/python3.7/site-packages/sklearn/manifold/_t_sne.py:783: FutureWarning: The default initialization in TSNE will change from 'random' to 'pca' in 1.2.\n",
      "  FutureWarning,\n",
      "/opt/conda/lib/python3.7/site-packages/sklearn/manifold/_t_sne.py:793: FutureWarning: The default learning rate in TSNE will change from 200.0 to 'auto' in 1.2.\n",
      "  FutureWarning,\n"
     ]
    }
   ],
   "source": [
    "#using tsne to visualize 300 dimensolaity\n",
    "from sklearn.manifold import TSNE\n",
    "tsne=TSNE(n_components=2,n_iter=5000,perplexity=30,random_state=0)\n",
    "vectors = np.asarray(model.wv.vectors)\n",
    "labels = np.asarray(model.wv.index_to_key)\n",
    "vectors=tsne.fit_transform(vectors)\n",
    "x_vals = [v[0] for v in vectors]\n",
    "y_vals = [v[1] for v in vectors]"
   ]
  },
  {
   "cell_type": "code",
   "execution_count": 18,
   "id": "171d6563",
   "metadata": {
    "execution": {
     "iopub.execute_input": "2023-04-22T10:23:39.297741Z",
     "iopub.status.busy": "2023-04-22T10:23:39.296851Z",
     "iopub.status.idle": "2023-04-22T10:23:39.591177Z",
     "shell.execute_reply": "2023-04-22T10:23:39.589827Z"
    },
    "papermill": {
     "duration": 0.307574,
     "end_time": "2023-04-22T10:23:39.593881",
     "exception": false,
     "start_time": "2023-04-22T10:23:39.286307",
     "status": "completed"
    },
    "tags": []
   },
   "outputs": [
    {
     "data": {
      "text/html": [
       "        <script type=\"text/javascript\">\n",
       "        window.PlotlyConfig = {MathJaxConfig: 'local'};\n",
       "        if (window.MathJax && window.MathJax.Hub && window.MathJax.Hub.Config) {window.MathJax.Hub.Config({SVG: {font: \"STIX-Web\"}});}\n",
       "        if (typeof require !== 'undefined') {\n",
       "        require.undef(\"plotly\");\n",
       "        requirejs.config({\n",
       "            paths: {\n",
       "                'plotly': ['https://cdn.plot.ly/plotly-2.18.0.min']\n",
       "            }\n",
       "        });\n",
       "        require(['plotly'], function(Plotly) {\n",
       "            window._Plotly = Plotly;\n",
       "        });\n",
       "        }\n",
       "        </script>\n",
       "        "
      ]
     },
     "metadata": {},
     "output_type": "display_data"
    },
    {
     "data": {
      "text/html": [
       "<div>                            <div id=\"c65abb1a-d454-4d73-b17a-26f14f29f6eb\" class=\"plotly-graph-div\" style=\"height:525px; width:100%;\"></div>            <script type=\"text/javascript\">                require([\"plotly\"], function(Plotly) {                    window.PLOTLYENV=window.PLOTLYENV || {};                                    if (document.getElementById(\"c65abb1a-d454-4d73-b17a-26f14f29f6eb\")) {                    Plotly.newPlot(                        \"c65abb1a-d454-4d73-b17a-26f14f29f6eb\",                        [{\"mode\":\"markers\",\"text\":[\"ive\",\"also\",\"skin\",\"lot\",\"really\",\"pain\",\"im\",\"fever\",\"feel\",\"feeling\",\"experiencing\",\"high\",\"neck\",\"cough\",\"chest\",\"get\",\"quite\",\"headache\",\"throat\",\"rash\",\"hurts\",\"red\",\"severe\",\"body\",\"itching\",\"back\",\"painful\",\"weak\",\"chills\",\"difficult\",\"stomach\",\"lost\",\"discomfort\",\"nausea\",\"like\",\"time\",\"frequently\",\"coughing\",\"uncomfortable\",\"muscles\",\"recently\",\"go\",\"occasionally\",\"legs\",\"exhausted\",\"breathing\",\"appetite\",\"cant\",\"trouble\",\"vomiting\",\"nose\",\"weight\",\"stiff\",\"additionally\",\"rashes\",\"joints\",\"swollen\",\"pimples\",\"arms\",\"itchy\",\"addition\",\"yellow\",\"well\",\"along\",\"sores\",\"often\",\"extremely\",\"headaches\",\"anus\",\"night\",\"eyes\",\"temperature\",\"dry\",\"ache\",\"developed\",\"urine\",\"sometimes\",\"indigestion\",\"spots\",\"dizziness\",\"sore\",\"causing\",\"muscle\",\"weakness\",\"lately\",\"tired\",\"become\",\"face\",\"hard\",\"around\",\"blackheads\",\"issues\",\"heart\",\"suffering\",\"difficulty\",\"worse\",\"phlegm\",\"feels\",\"pee\",\"blood\",\"perspiring\",\"making\",\"walking\",\"balance\",\"days\",\"getting\",\"problems\",\"since\",\"intense\",\"sweating\",\"mouth\",\"sick\",\"eating\",\"vision\",\"little\",\"seem\",\"anything\",\"frequent\",\"symptoms\",\"noticed\",\"dont\",\"dark\",\"mucus\",\"persistent\",\"different\",\"mild\",\"taste\",\"constipation\",\"thick\",\"worn\",\"acid\",\"accompanied\",\"breath\",\"move\",\"day\",\"smell\",\"constantly\",\"small\",\"aches\",\"especially\",\"excessive\",\"pusfilled\",\"dizzy\",\"bloody\",\"visual\",\"reflux\",\"abdominal\",\"bad\",\"becoming\",\"urinate\",\"rest\",\"scratchy\",\"walk\",\"bothering\",\"terrible\",\"bumps\",\"loss\",\"patches\",\"without\",\"food\",\"hunger\",\"fatigued\",\"strong\",\"regularly\",\"worried\",\"always\",\"inflamed\",\"cramps\",\"swelling\",\"stool\",\"fatigue\",\"head\",\"heartburn\",\"racing\",\"even\",\"starting\",\"bowel\",\"constant\",\"turned\",\"black\",\"every\",\"challenging\",\"going\",\"near\",\"away\",\"burning\",\"concentrate\",\"sneezing\",\"irritability\",\"vomit\",\"blurred\",\"disturbance\",\"mucoid\",\"mucous\",\"veins\",\"ill\",\"unpleasant\",\"focus\",\"losing\",\"regular\",\"sensation\",\"stiffness\",\"sour\",\"experience\",\"brownish\",\"started\",\"lumps\",\"eat\",\"struggling\",\"pressure\",\"touch\",\"abdomen\",\"stools\",\"calves\",\"restroom\",\"feet\",\"nodes\",\"sputum\",\"makes\",\"experienced\",\"depression\",\"swallowing\",\"sensitive\",\"distorted\",\"areas\",\"irritated\",\"nauseous\",\"hurt\",\"extreme\",\"area\",\"wont\",\"urges\",\"result\",\"bathroom\",\"nasty\",\"strange\",\"past\",\"morning\",\"diarrhea\",\"nails\",\"gets\",\"lightheaded\",\"energy\",\"scurrying\",\"pus\",\"exhaustion\",\"increased\",\"health\",\"difficulties\",\"times\",\"lymph\",\"spreading\",\"uneasy\",\"run\",\"infections\",\"find\",\"low\",\"hurting\",\"sleeping\",\"sinuses\",\"itchiness\",\"tight\",\"acidic\",\"due\",\"belly\",\"covered\",\"everything\",\"tingling\",\"joint\",\"excruciatingly\",\"stop\",\"including\",\"upper\",\"moreover\",\"long\",\"pretty\",\"lips\",\"bleeding\",\"things\",\"several\",\"filled\",\"cold\",\"hue\",\"lack\",\"using\",\"behind\",\"developing\",\"producing\",\"queasy\",\"itch\",\"seems\",\"felt\",\"deal\",\"rather\",\"peeling\",\"discomforts\",\"color\",\"noticeable\",\"last\",\"resemble\",\"periods\",\"staying\",\"fluid\",\"pains\",\"keep\",\"entire\",\"made\",\"work\",\"healing\",\"vessels\",\"generally\",\"use\",\"start\",\"bloating\",\"much\",\"catch\",\"constipated\",\"sleep\",\"dents\",\"scratching\",\"activities\",\"rashy\",\"lesions\",\"swell\",\"running\",\"know\",\"incredibly\",\"muscular\",\"irritating\",\"excruciating\",\"breathe\",\"aftertaste\",\"seen\",\"look\",\"certain\",\"flaky\",\"can\",\"almost\",\"temperatures\",\"chronic\",\"unsteady\",\"change\",\"got\",\"acidity\",\"meals\",\"runny\",\"unwell\",\"smells\",\"observed\",\"impatience\",\"coming\",\"itches\",\"dealing\",\"suddenly\",\"woke\",\"elbows\",\"awful\",\"concerning\",\"usual\",\"parts\",\"shivering\",\"longer\",\"beating\",\"everywhere\",\"profusely\",\"limb\",\"whenever\",\"movements\",\"motions\",\"foul\",\"foods\",\"hungry\",\"bothered\",\"lose\",\"impaired\",\"bloated\",\"knees\",\"horrible\",\"focusing\",\"belching\",\"scurring\",\"foggy\",\"eyesight\",\"gotten\",\"daily\",\"believe\",\"hands\",\"think\",\"large\",\"bumpy\",\"changes\",\"soreness\",\"particularly\",\"something\",\"kind\",\"miserable\",\"asleep\",\"usually\",\"chilly\",\"appear\",\"bleeds\",\"throughout\",\"see\",\"palpitations\",\"shortness\",\"throwing\",\"thats\",\"butt\",\"watery\",\"sudden\",\"week\",\"able\",\"numbness\",\"prone\",\"ability\",\"not\",\"theres\",\"significant\",\"congested\",\"flake\",\"peel\",\"concerned\",\"life\",\"causes\",\"lower\",\"visible\",\"rapidly\",\"simply\",\"odd\",\"sense\",\"urge\",\"sneeze\",\"blocked\",\"pounding\",\"t\",\"’\",\"urination\",\"digestive\",\"packed\",\"control\",\"infection\",\"vertigo\",\"hazy\",\"blistering\",\"doctor\",\"occasion\",\"sure\",\"fullness\",\"drained\",\"burping\",\"tough\",\"balls\",\"spicy\",\"colour\",\"discharge\",\"nonstop\",\"shaking\",\"terribly\",\"falling\",\"behalf\",\"roof\",\"sadness\",\"fairly\",\"furthermore\",\"stuffy\",\"sweat\",\"hacking\",\"fast\",\"places\",\"congestion\",\"nodules\",\"wrong\",\"clogged\",\"tone\",\"weird\",\"migraines\",\"ooze\",\"whats\",\"shake\",\"bitter\",\"part\",\"odour\",\"cravings\",\"urinating\",\"rustcolored\",\"want\",\"cloudy\",\"loose\",\"besides\",\"couple\",\"dusting\",\"lie\",\"throw\",\"woozy\",\"plaguing\",\"appears\",\"limbs\",\"balanced\",\"scalp\",\"enlarged\",\"easily\",\"brain\",\"trembling\",\"swallow\",\"hair\",\"gunk\",\"belch\",\"try\",\"hiccups\",\"uncontrollable\",\"scratch\",\"stuck\",\"arm\",\"caused\",\"saliva\",\"lingering\",\"lying\",\"concentrating\",\"disoriented\",\"present\",\"fine\",\"lightheadedness\",\"melancholy\",\"wheezing\",\"becomes\",\"stuff\",\"stand\",\"heal\",\"changed\",\"redness\",\"today\",\"taking\",\"normal\",\"completely\",\"prominent\",\"cheeks\",\"nasal\",\"appeared\",\"come\",\"growing\",\"don\",\"right\",\"tasks\",\"firm\",\"severely\",\"shade\",\"aching\",\"tiny\",\"rid\",\"regions\",\"bruises\",\"bruise\",\"nauseated\",\"jaw\",\"standing\",\"overweight\",\"many\",\"explain\",\"heavy\",\"havent\",\"followed\",\"physical\",\"puffing\",\"fatty\",\"lump\",\"irritation\",\"protrude\",\"fingers\",\"yeast\",\"irritations\",\"cuts\",\"take\",\"antacids\",\"hours\",\"gas\",\"iron\",\"bloos\",\"tarry\",\"mind\",\"happening\",\"unexpected\",\"major\",\"cause\",\"sex\",\"sit\",\"twitching\",\"metallic\",\"may\",\"mood\",\"asthma\",\"driving\",\"desires\",\"apetite\",\"everyday\",\"wounds\",\"hydrated\",\"exhausting\",\"slowly\",\"huge\",\"discovered\",\"grown\",\"respiratory\",\"marks\",\"produced\",\"hot\",\"whole\",\"weariness\",\"finding\",\"looks\",\"quickly\",\"tremble\",\"instability\",\"facing\",\"unstable\",\"good\",\"temps\",\"comes\",\"relieve\",\"inflammation\",\"puffy\",\"shaky\",\"lethargic\",\"hardly\",\"cramp\",\"great\",\"colored\",\"distortion\",\"unusual\",\"suffer\",\"excessively\",\"seeing\",\"worrying\",\"better\"],\"x\":[25.66286849975586,-29.50482940673828,-40.50869369506836,25.15605926513672,-0.960941731929779,9.455909729003906,30.132102966308594,23.41415023803711,3.7917540073394775,27.851125717163086,16.514230728149414,23.892972946166992,2.695964813232422,29.94904899597168,21.943891525268555,-0.963994026184082,0.13175837695598602,22.99237060546875,12.553961753845215,-40.028926849365234,1.5773504972457886,-37.27446746826172,19.03357696533203,-38.08985900878906,18.332317352294922,11.84701919555664,-1.6906964778900146,4.113591194152832,24.19757843017578,1.3602309226989746,18.723798751831055,19.624422073364258,3.010286331176758,23.503128051757812,-4.285487651824951,-6.953466892242432,-1.243896722793579,31.546375274658203,-0.5311138033866882,3.0944316387176514,-1.3502202033996582,-1.813306450843811,-1.998883605003357,-28.13325309753418,21.376432418823242,29.6514949798584,8.659321784973145,20.12442970275879,19.979732513427734,22.798009872436523,-32.96623229980469,21.14977264404297,0.8373004198074341,-29.96026611328125,-37.00238800048828,0.06959249079227448,0.13415932655334473,-41.10185623168945,-30.48507308959961,-32.26951217651367,19.278636932373047,21.969654083251953,7.1158294677734375,14.963860511779785,-34.721839904785156,-1.923596978187561,-1.2997965812683105,12.844462394714355,-2.9222943782806396,-10.311534881591797,-8.906416893005371,22.25653076171875,-2.8785228729248047,20.0634708404541,-37.834877014160156,20.82244110107422,-3.07285213470459,12.060275077819824,-38.72846984863281,22.54683494567871,11.627452850341797,-26.967647552490234,23.693115234375,5.092133522033691,-4.69093132019043,21.39276885986328,17.68214988708496,-34.37627029418945,1.2267060279846191,-2.238635778427124,-40.89518356323242,22.987537384033203,32.505191802978516,16.968774795532227,18.233844757080078,-2.4915096759796143,31.892333984375,11.967141151428223,-7.606271266937256,-24.35839080810547,25.210126876831055,2.3290953636169434,-0.0359952338039875,22.812259674072266,-22.013622283935547,8.705175399780273,21.875751495361328,3.2007458209991455,20.180315017700195,31.019655227661133,0.11180230230093002,21.513736724853516,0.9325509667396545,13.452871322631836,-41.40928268432617,20.18834114074707,3.375943660736084,8.411723136901855,8.2112455368042,-31.429729461669922,2.8535242080688477,21.30938148498535,31.105228424072266,24.764806747436523,-41.181705474853516,-14.729040145874023,-1.2597768306732178,2.852376937866211,31.05767822265625,20.521717071533203,11.5213041305542,-15.05770206451416,27.60993194580078,0.6635913848876953,-20.39511489868164,12.047801971435547,1.9072096347808838,-36.302818298339844,28.346017837524414,-4.7175116539001465,14.199224472045898,-40.10508346557617,18.651121139526367,-1.8534940481185913,13.288721084594727,12.256269454956055,18.710840225219727,-25.847183227539062,-0.11941827088594437,-6.662288665771484,-41.41038131713867,11.36112117767334,0.9489992260932922,16.885528564453125,-19.59561538696289,-40.71127700805664,12.754485130310059,-40.305850982666016,1.1295193433761597,1.6659047603607178,12.453397750854492,6.206299304962158,10.61369514465332,0.08135060966014862,-27.630157470703125,-5.236564636230469,-30.766557693481445,-6.726404190063477,1.4440654516220093,-2.2901546955108643,21.18462562561035,6.8392109870910645,2.5786917209625244,31.054088592529297,-2.040860176086426,-20.299102783203125,0.1391928791999817,-16.010732650756836,21.856632232666016,20.390628814697266,-14.596294403076172,11.188775062561035,-0.3281378448009491,-34.02658462524414,26.176485061645508,-5.201851844787598,11.484856605529785,3.104905128479004,13.903655052185059,-7.791435718536377,11.951009750366211,12.852743148803711,27.85352325439453,28.997251510620117,-27.0307559967041,27.921920776367188,-13.432141304016113,11.458074569702148,12.264336585998535,10.864291191101074,-3.6838033199310303,2.235895872116089,-0.28411731123924255,-8.66769790649414,30.35453224182129,-2.6553337574005127,-38.816795349121094,0.34676671028137207,17.442367553710938,5.335148334503174,-29.33238410949707,-0.6479146480560303,-13.43387222290039,-25.712299346923828,0.05693908780813217,9.359440803527832,-21.23950958251953,27.097614288330078,-3.0179929733276367,-18.615135192871094,13.540975570678711,0.080342136323452,-35.65690231323242,12.063541412353516,-38.4431037902832,-25.554737091064453,-3.3694851398468018,12.82264232635498,13.653306007385254,-9.221334457397461,25.73152732849121,-7.453697204589844,-4.026286602020264,-0.8763967752456665,-36.22283935546875,-30.175220489501953,-20.084402084350586,-36.05321502685547,-1.7885198593139648,-23.253263473510742,-0.9568498134613037,15.455936431884766,5.896128177642822,-39.19087219238281,-39.312217712402344,20.72625732421875,9.381561279296875,-18.981985092163086,17.459848403930664,-1.0696369409561157,1.513634204864502,-30.720436096191406,1.3779385089874268,3.781707286834717,-2.1646273136138916,-13.910409927368164,-10.51994514465332,15.26071834564209,-12.759273529052734,20.539043426513672,18.9084529876709,2.1930899620056152,-0.5041152834892273,11.927413940429688,2.3373003005981445,-36.26529312133789,5.21108341217041,-2.286062717437744,-13.291668891906738,0.022500833496451378,3.6620659828186035,8.2216157913208,-1.0183119773864746,-18.50482749938965,-25.69827651977539,12.205031394958496,-31.760494232177734,-0.6990260481834412,5.589641571044922,-36.820159912109375,-35.14899444580078,23.65460777282715,-34.19014358520508,10.021488189697266,1.6945948600769043,-18.151092529296875,-28.040966033935547,24.803314208984375,3.268789768218994,-32.399662017822266,-1.329252004623413,11.599942207336426,9.720295906066895,12.166082382202148,-23.565929412841797,-26.033733367919922,-33.75823211669922,-25.852210998535156,-4.933066368103027,-39.57299041748047,-25.508560180664062,14.80732250213623,-27.539684295654297,6.689172744750977,-6.413136005401611,-22.551128387451172,-25.304229736328125,8.170929908752441,-20.438249588012695,-25.533432006835938,26.24998664855957,-8.57132625579834,-8.52982234954834,-7.6064372062683105,-8.246871948242188,26.087764739990234,1.418407678604126,-16.977453231811523,-22.81912612915039,-18.93280029296875,6.01947021484375,-34.756710052490234,-28.815505981445312,-24.621299743652344,9.091276168823242,-17.282663345336914,13.393956184387207,12.516249656677246,-26.460895538330078,6.026979923248291,16.38777732849121,-4.150811195373535,-16.154741287231445,-38.78763198852539,-37.78948974609375,-24.57666778564453,-17.076108932495117,-6.874610424041748,-9.735550880432129,14.640469551086426,14.553778648376465,-10.293580055236816,12.494775772094727,9.424826622009277,-2.301356792449951,3.8893327713012695,22.73416519165039,-11.19172191619873,-25.39401626586914,10.525725364685059,9.584056854248047,-25.143041610717773,9.357446670532227,7.256319046020508,-33.0943489074707,-15.276603698730469,16.367603302001953,2.0451276302337646,-10.452380180358887,-27.46477508544922,10.099038124084473,-13.956365585327148,26.417043685913086,-37.190067291259766,26.865053176879883,16.29470443725586,0.16520117223262787,1.1560602188110352,1.2993842363357544,-5.91365385055542,-1.756654977798462,-4.437041759490967,19.158903121948242,-1.8991508483886719,9.126708984375,-4.4580559730529785,-14.791598320007324,-32.53496170043945,7.7439985275268555,-0.8445866107940674,-34.491851806640625,4.554969787597656,8.674193382263184,-19.67322540283203,6.502971172332764,-18.5988826751709,-13.600605964660645,-0.4056916832923889,-30.13913917541504,-36.488128662109375,-11.246996879577637,14.759381294250488,-18.151758193969727,-13.254189491271973,-33.17693328857422,14.711705207824707,-5.894697666168213,-6.215198516845703,24.30339813232422,-31.686532974243164,0.46208086609840393,-5.9792399406433105,-24.446645736694336,-2.5274555683135986,23.158935546875,12.451167106628418,11.800171852111816,-0.41494739055633545,-6.882802963256836,-21.101125717163086,-3.553683042526245,4.0713419914245605,13.593047142028809,-24.43879508972168,0.8946775794029236,-16.03690528869629,13.51731014251709,-16.840768814086914,3.5442159175872803,-23.841367721557617,-16.492521286010742,-17.357234954833984,-1.2463117837905884,-21.44515037536621,-2.6177971363067627,-13.064303398132324,7.540074348449707,10.72929573059082,-33.87334060668945,-4.0336432456970215,-2.9560821056365967,-9.5215425491333,5.715331077575684,24.199064254760742,-17.288021087646484,-17.266422271728516,-1.129721760749817,9.961714744567871,-36.65013885498047,-10.286153793334961,-20.597917556762695,13.928217887878418,3.7590529918670654,-28.669357299804688,-18.357162475585938,-6.717500686645508,-17.991579055786133,-10.092209815979004,16.4687442779541,-1.8712183237075806,9.730409622192383,-37.28841018676758,-1.040897011756897,-34.57728576660156,-18.65277862548828,2.7105283737182617,0.0046869488433003426,10.27480411529541,-5.851089954376221,3.2434775829315186,16.180953979492188,9.960867881774902,10.944692611694336,-28.803573608398438,3.3682336807250977,15.812524795532227,2.45491099357605,24.8007869720459,-25.42767333984375,-4.119372844696045,-36.73564910888672,-14.580906867980957,5.015079975128174,-34.21842575073242,-29.65607452392578,2.116096258163452,-21.694355010986328,-15.244194030761719,5.11739444732666,-4.059517860412598,14.041046142578125,-12.054792404174805,-8.410646438598633,-5.8582377433776855,-20.612810134887695,-8.441317558288574,-2.0777571201324463,-4.706467151641846,18.550811767578125,-4.36628532409668,-16.708274841308594,-0.7828707098960876,-0.12543711066246033,6.855167388916016,14.763307571411133,-12.782719612121582,15.389512062072754,13.557799339294434,-14.156051635742188,11.206196784973145,-3.419457197189331,-0.224017933011055,-7.3051981925964355,-0.4797215461730957,-14.24767780303955,4.245843410491943,-4.09431266784668,10.385807991027832,-3.4101853370666504,-11.772248268127441,-16.112131118774414,-1.2495381832122803,2.8427278995513916,-10.484664916992188,15.518959999084473,-1.7818031311035156,0.3964913785457611,6.209352493286133,6.819088459014893,-2.0874509811401367,5.4465861320495605,-0.19333605468273163,9.812638282775879,5.236915588378906,-1.6826006174087524,-0.7713460922241211,-7.5001606941223145,-20.003808975219727,-11.851044654846191,-25.268829345703125,-23.82587432861328,-17.23710823059082,-13.800495147705078,5.08250617980957,-9.31102466583252,-22.50243377685547,-11.25798511505127,-27.404233932495117,-7.368884563446045,-6.756109237670898,-16.685138702392578,3.6246557235717773,3.0119004249572754,-32.736961364746094,-17.067699432373047,-35.42243194580078,6.512095928192139,-25.449949264526367,3.660834789276123,-32.06203079223633,-20.15355110168457,-12.133182525634766,-1.9716960191726685,2.3067822456359863,0.8116220831871033,-8.496538162231445,-17.949010848999023,-16.601076126098633,10.175760269165039,-6.567187786102295,-4.954661846160889,-5.994512557983398,-10.624889373779297,0.48630085587501526,-3.582624912261963,-8.99425220489502,-10.038139343261719,-7.138510227203369,1.3038829565048218,-20.449951171875,-19.774702072143555,-18.594011306762695,-2.0653769969940186,-2.570998191833496,-5.745084762573242,-3.414769172668457,-3.1487812995910645,-13.276084899902344,4.1485595703125,-13.365788459777832,-6.763724327087402,-31.021318435668945,-8.525999069213867,-6.826720237731934,-6.390120506286621,-8.38280963897705,-8.979836463928223,-9.87740707397461,-6.659224987030029,5.0363569259643555,-7.840365409851074,-1.53874671459198,-2.208752393722534,-4.772592067718506,-15.254143714904785,-6.236725807189941,16.086198806762695,-12.81925106048584,-23.29909896850586,-26.271347045898438,10.256180763244629,14.863713264465332,-13.007657051086426,-5.4661946296691895,-5.151000499725342,-5.649906158447266,13.734195709228516,11.722518920898438,-14.00451374053955,14.940640449523926,-5.100671768188477,7.862751007080078,-7.495743751525879,8.13022518157959,7.700274467468262,-10.44294261932373,-3.07718563079834,-2.2763304710388184,-15.56524658203125,0.05188194289803505,-1.210734248161316,-4.503777027130127,-2.349118709564209,-8.22942066192627,-6.964116096496582,-19.134016036987305,7.627473831176758,-11.044258117675781,1.7600950002670288,14.116033554077148,5.386129379272461,-14.401567459106445,-5.037014484405518],\"y\":[-17.65062713623047,-12.467639923095703,-11.540105819702148,-18.37444305419922,-31.21769905090332,-23.150039672851562,-12.909017562866211,-26.54199981689453,20.05515480041504,-17.881662368774414,-21.327512741088867,-26.722551345825195,-37.82912063598633,-15.031975746154785,-11.707502365112305,30.370779037475586,-31.014636993408203,-24.529916763305664,7.6438307762146,-11.123736381530762,-29.364103317260742,-6.425716400146484,-26.279529571533203,-8.209936141967773,-26.30718421936035,-0.6266381144523621,-31.111831665039062,-36.639347076416016,-25.585710525512695,-37.00578308105469,-28.527353286743164,-28.712785720825195,-21.450397491455078,-25.09084129333496,26.449337005615234,20.551433563232422,27.769699096679688,-12.784167289733887,-33.397193908691406,-36.62874984741211,-32.995662689208984,-29.751821517944336,29.753721237182617,6.34381628036499,-17.692174911499023,-15.798229217529297,20.343643188476562,-16.18792152404785,-9.445535659790039,-25.81751823425293,-5.7252702713012695,-29.951324462890625,-39.48191452026367,-12.432363510131836,-6.608774185180664,-38.58914566040039,-36.28828048706055,-12.553786277770996,-2.7342498302459717,-7.250048637390137,-24.591190338134766,-30.02056884765625,15.488502502441406,-22.51042938232422,-7.416330814361572,27.33561897277832,-33.627925872802734,23.640077590942383,-29.81106185913086,23.209369659423828,19.731414794921875,-26.60848617553711,19.141630172729492,-26.583913803100586,-9.465595245361328,-29.512948989868164,29.6536865234375,24.22359275817871,-6.403470039367676,-6.614455223083496,16.580333709716797,5.175247669219971,-23.812088012695312,-35.694236755371094,-27.208635330200195,-16.975055694580078,-24.837604522705078,-6.393641948699951,-32.92237091064453,-34.36463165283203,-13.134674072265625,-8.230680465698242,-13.266497611999512,-21.591777801513672,-8.483282089233398,25.505712509155273,-14.178323745727539,6.7850751876831055,25.16758918762207,-10.000896453857422,-25.534202575683594,-34.81581115722656,-37.77587890625,-7.372030735015869,-8.283137321472168,9.83464241027832,-8.180912971496582,-34.79138946533203,-25.75699234008789,-16.495243072509766,28.053295135498047,-18.428625106811523,29.08440399169922,23.18825912475586,-4.1558613777160645,-16.40461540222168,20.393356323242188,22.81656837463379,17.89080810546875,-5.122445106506348,21.146852493286133,-28.815664291381836,-13.230569839477539,-11.168871879577637,-5.864879608154297,-15.460906028747559,28.751707077026367,-21.694900512695312,-15.851031303405762,-19.873069763183594,22.872676849365234,-15.4063138961792,-14.26496696472168,-38.00559997558594,9.947373390197754,6.082058906555176,20.179855346679688,-5.622863292694092,-12.687959671020508,28.361404418945312,22.560773849487305,-12.517411231994629,-7.41636323928833,-26.420665740966797,22.106830596923828,22.98267936706543,-27.77947425842285,-8.96109390258789,-34.823795318603516,24.66157341003418,-5.219851493835449,-19.622896194458008,-36.47041702270508,-4.0735273361206055,-10.713532447814941,-4.513625621795654,-22.646699905395508,-5.372391700744629,-38.43073272705078,27.49793243408203,22.254220962524414,-5.542046546936035,-22.895954132080078,26.124996185302734,-2.8665895462036133,21.223363876342773,-6.2874932289123535,17.615571975708008,-34.94089126586914,-28.315135955810547,-24.739612579345703,-6.177253246307373,27.117677688598633,-14.011615753173828,24.394020080566406,8.962855339050293,-29.021947860717773,10.692489624023438,-28.93349266052246,-23.560815811157227,-15.471484184265137,-5.2352399826049805,-26.8673038482666,-6.407073020935059,-12.900227546691895,29.011444091796875,-3.814690589904785,-13.566195487976074,21.70924186706543,23.29750633239746,21.727867126464844,20.928590774536133,-16.213176727294922,-13.576927185058594,7.344028949737549,-15.459306716918945,-8.932685852050781,-3.3733770847320557,-22.361539840698242,20.484020233154297,20.789690017700195,-35.47657775878906,29.001018524169922,22.923677444458008,-14.025075912475586,13.320699691772461,-4.539306163787842,20.36791229248047,-5.763130187988281,-10.160284042358398,-4.044500350952148,26.514705657958984,16.364194869995117,9.357736587524414,-26.490352630615234,-0.5798781514167786,-1.0087987184524536,-16.231470108032227,21.16594886779785,-9.535368919372559,21.022510528564453,24.698925018310547,-11.419328689575195,20.841964721679688,-4.029189109802246,-10.680524826049805,8.47905158996582,-10.167061805725098,-21.04349708557129,-10.063918113708496,-12.710724830627441,23.800262451171875,6.7468953132629395,-26.20577049255371,-12.734150886535645,-0.9238241314888,-5.43742036819458,-10.635912895202637,-5.838509559631348,2.940396308898926,24.07851219177246,-6.192727088928223,-7.105175495147705,-11.723291397094727,-12.345998764038086,-22.76445960998535,19.656660079956055,-6.731075763702393,-7.873659133911133,17.841018676757812,-11.832239151000977,-4.01113748550415,-27.221027374267578,-33.018131256103516,10.363792419433594,-10.26607894897461,15.405790328979492,-18.97039031982422,7.935885429382324,-11.979185104370117,-23.434030532836914,-36.359554290771484,28.437664031982422,-8.717704772949219,-1.4019534587860107,-11.409302711486816,9.16515827178955,20.087858200073242,8.506195068359375,-32.209083557128906,-13.004573822021484,15.6729097366333,26.009347915649414,5.269391059875488,9.991832733154297,-17.469528198242188,-4.218441486358643,-30.102283477783203,6.120970726013184,-10.66241455078125,-12.436274528503418,-13.43785285949707,0.7340871691703796,-1.795191764831543,-24.149442672729492,9.68761157989502,-3.7221922874450684,-15.724365234375,-1.6617287397384644,-2.8988242149353027,14.719889640808105,-8.181601524353027,-13.440215110778809,-11.638789176940918,3.8239710330963135,6.930015563964844,1.9632065296173096,8.06580638885498,-7.169323444366455,-4.266922950744629,10.534379959106445,-3.4305644035339355,-5.0758256912231445,-7.4129486083984375,12.644094467163086,4.747162818908691,-1.1678314208984375,-3.5734176635742188,6.27508544921875,7.474815845489502,-16.196931838989258,-10.731155395507812,18.51114273071289,9.02991771697998,-9.75120735168457,-14.621780395507812,-24.57855224609375,8.542749404907227,3.1739816665649414,-10.127988815307617,12.107534408569336,-3.578073024749756,-5.4095964431762695,0.41711241006851196,-15.216360092163086,7.682559967041016,-11.572662353515625,-8.018171310424805,-7.748194217681885,-1.1332017183303833,-12.348305702209473,23.232641220092773,-3.0589358806610107,-3.0604021549224854,-2.1975150108337402,3.1814653873443604,9.825713157653809,14.649532318115234,14.463800430297852,-4.208375453948975,-5.398589134216309,6.9064130783081055,-16.00002098083496,17.34113311767578,23.337038040161133,-10.733963966369629,-15.412919998168945,15.21628475189209,-8.05608081817627,18.720184326171875,-15.019194602966309,2.4425694942474365,-17.163259506225586,-2.63340425491333,-10.215677261352539,5.333944320678711,-14.775639533996582,-3.7516398429870605,10.316560745239258,-1.7046289443969727,-13.810596466064453,12.945626258850098,-14.107047080993652,-11.274269104003906,-15.501106262207031,-5.590944766998291,-29.661134719848633,-25.963111877441406,-25.662555694580078,13.348791122436523,22.400197982788086,10.159242630004883,-22.517122268676758,2.2324914932250977,16.67901611328125,16.334230422973633,5.123220443725586,-9.630417823791504,-1.0198405981063843,22.841306686401367,-11.29452896118164,7.895678520202637,15.717475891113281,-4.4604291915893555,11.714226722717285,-3.6394739151000977,5.338293075561523,3.8639190196990967,-4.917551040649414,-3.017629861831665,3.183001756668091,-17.851436614990234,2.2093429565429688,-4.983098030090332,-0.04519929736852646,-12.964808464050293,7.9215521812438965,11.154263496398926,-14.52234172821045,0.5994751453399658,-24.912220001220703,18.291690826416016,-1.9791074991226196,10.619285583496094,-15.66600513458252,-19.70180320739746,-16.371135711669922,-25.25312614440918,12.184102058410645,4.524333953857422,-6.200741767883301,-6.891706466674805,-4.947309970855713,-0.7413503527641296,0.8256319761276245,8.650185585021973,-13.148441314697266,-0.9869034290313721,-12.19029426574707,0.959589958190918,2.2890825271606445,-7.296641826629639,6.3125691413879395,5.241604328155518,5.892820358276367,-7.947987079620361,-13.024303436279297,-15.564297676086426,-1.5371614694595337,9.134260177612305,3.385392904281616,11.51872730255127,-11.95427417755127,-13.208944320678711,10.930034637451172,10.892321586608887,16.13591957092285,14.955370903015137,-11.844944953918457,13.641284942626953,-3.2893574237823486,-3.561075448989868,12.815744400024414,-4.8957438468933105,-1.9235093593597412,6.543891429901123,-6.57779598236084,-5.227634906768799,-10.024837493896484,21.351110458374023,-10.004707336425781,-2.7422924041748047,21.601028442382812,-1.2687562704086304,-5.012407302856445,-9.927689552307129,-0.9664498567581177,-8.300590515136719,4.723483562469482,-33.5533561706543,-9.720117568969727,16.9158992767334,-16.25796127319336,-8.342996597290039,-11.294659614562988,-14.002050399780273,-9.06074333190918,-14.042317390441895,-6.010270118713379,2.6645383834838867,-1.8360145092010498,-2.9755985736846924,-12.442919731140137,-2.0888843536376953,-0.49011629819869995,9.633607864379883,-6.912158966064453,-3.4686286449432373,-8.568138122558594,22.076623916625977,-19.925092697143555,14.010266304016113,7.227470397949219,9.912252426147461,-7.0002031326293945,8.095438957214355,5.477753162384033,19.029525756835938,-22.207271575927734,-4.027786731719971,2.8104586601257324,18.414310455322266,17.014389038085938,-1.3339309692382812,-19.057598114013672,3.447805643081665,-5.287248611450195,-5.86848258972168,2.1133363246917725,-7.524665355682373,-2.5367367267608643,2.171008586883545,5.654587745666504,14.087158203125,1.464539885520935,-11.457496643066406,17.381269454956055,-10.159421920776367,16.215967178344727,14.748682975769043,-1.7309479713439941,19.85732650756836,6.415597915649414,-1.6599515676498413,-9.630548477172852,13.387418746948242,15.471789360046387,1.4333964586257935,0.73649001121521,-7.477074146270752,-2.493299722671509,0.8699560761451721,16.121475219726562,7.176884651184082,14.149640083312988,-4.105249881744385,0.9874623417854309,0.8894328474998474,0.08869589865207672,-4.2091546058654785,-5.879703998565674,-4.799783706665039,-4.660001277923584,-7.48410177230835,0.07944928854703903,-2.6001036167144775,-2.2730135917663574,-6.9308085441589355,-9.077731132507324,7.854349136352539,9.358177185058594,-8.178513526916504,-4.3925886154174805,-1.0748869180679321,-2.1066105365753174,-1.620754599571228,-9.549897193908691,-1.9340084791183472,-6.7464141845703125,-0.35280320048332214,2.0535027980804443,4.157656669616699,-8.152848243713379,6.307387828826904,-2.963284730911255,-3.1127305030822754,-0.8188661336898804,0.6830881834030151,-7.5102949142456055,-3.3340375423431396,-5.469239711761475,-0.6966439485549927,10.979373931884766,14.72277545928955,15.545305252075195,2.4203367233276367,0.05487833172082901,-2.318892240524292,-0.02247517555952072,2.62825345993042,2.2804505825042725,3.866892099380493,1.0884003639221191,15.71832275390625,6.811493873596191,0.779712975025177,0.13877783715724945,14.837469100952148,-4.927350044250488,-2.4105124473571777,-4.024362564086914,-8.814102172851562,-0.8883352279663086,-1.4593496322631836,1.7976267337799072,4.417492866516113,6.431227207183838,4.446521759033203,3.514342784881592,7.469994068145752,-4.016916275024414,0.3056902587413788,-2.9782843589782715,1.4318467378616333,-0.8279166221618652,-4.746593475341797,-10.590412139892578,-0.903730571269989,-5.777268886566162,-6.52866792678833,-6.7692413330078125,-8.955245971679688,1.5488426685333252,-2.5324668884277344,12.236160278320312,2.28291654586792,-15.533660888671875,-10.88866901397705,-3.8392741680145264,-14.825139045715332,-1.2454544305801392,0.942347526550293,-2.972771644592285,0.0013080848148092628,-10.630203247070312,12.619973182678223,-4.0828657150268555,2.8770833015441895,1.952244520187378,-4.89276647567749,-2.496440887451172,-2.3542580604553223,-0.7833763957023621,3.499291181564331,2.2201590538024902,-5.839922904968262,14.25934886932373,-0.6614718437194824,8.776836395263672,-19.254823684692383,2.435791492462158,-1.1764901876449585,11.331303596496582],\"type\":\"scatter\"}],                        {\"template\":{\"data\":{\"histogram2dcontour\":[{\"type\":\"histogram2dcontour\",\"colorbar\":{\"outlinewidth\":0,\"ticks\":\"\"},\"colorscale\":[[0.0,\"#0d0887\"],[0.1111111111111111,\"#46039f\"],[0.2222222222222222,\"#7201a8\"],[0.3333333333333333,\"#9c179e\"],[0.4444444444444444,\"#bd3786\"],[0.5555555555555556,\"#d8576b\"],[0.6666666666666666,\"#ed7953\"],[0.7777777777777778,\"#fb9f3a\"],[0.8888888888888888,\"#fdca26\"],[1.0,\"#f0f921\"]]}],\"choropleth\":[{\"type\":\"choropleth\",\"colorbar\":{\"outlinewidth\":0,\"ticks\":\"\"}}],\"histogram2d\":[{\"type\":\"histogram2d\",\"colorbar\":{\"outlinewidth\":0,\"ticks\":\"\"},\"colorscale\":[[0.0,\"#0d0887\"],[0.1111111111111111,\"#46039f\"],[0.2222222222222222,\"#7201a8\"],[0.3333333333333333,\"#9c179e\"],[0.4444444444444444,\"#bd3786\"],[0.5555555555555556,\"#d8576b\"],[0.6666666666666666,\"#ed7953\"],[0.7777777777777778,\"#fb9f3a\"],[0.8888888888888888,\"#fdca26\"],[1.0,\"#f0f921\"]]}],\"heatmap\":[{\"type\":\"heatmap\",\"colorbar\":{\"outlinewidth\":0,\"ticks\":\"\"},\"colorscale\":[[0.0,\"#0d0887\"],[0.1111111111111111,\"#46039f\"],[0.2222222222222222,\"#7201a8\"],[0.3333333333333333,\"#9c179e\"],[0.4444444444444444,\"#bd3786\"],[0.5555555555555556,\"#d8576b\"],[0.6666666666666666,\"#ed7953\"],[0.7777777777777778,\"#fb9f3a\"],[0.8888888888888888,\"#fdca26\"],[1.0,\"#f0f921\"]]}],\"heatmapgl\":[{\"type\":\"heatmapgl\",\"colorbar\":{\"outlinewidth\":0,\"ticks\":\"\"},\"colorscale\":[[0.0,\"#0d0887\"],[0.1111111111111111,\"#46039f\"],[0.2222222222222222,\"#7201a8\"],[0.3333333333333333,\"#9c179e\"],[0.4444444444444444,\"#bd3786\"],[0.5555555555555556,\"#d8576b\"],[0.6666666666666666,\"#ed7953\"],[0.7777777777777778,\"#fb9f3a\"],[0.8888888888888888,\"#fdca26\"],[1.0,\"#f0f921\"]]}],\"contourcarpet\":[{\"type\":\"contourcarpet\",\"colorbar\":{\"outlinewidth\":0,\"ticks\":\"\"}}],\"contour\":[{\"type\":\"contour\",\"colorbar\":{\"outlinewidth\":0,\"ticks\":\"\"},\"colorscale\":[[0.0,\"#0d0887\"],[0.1111111111111111,\"#46039f\"],[0.2222222222222222,\"#7201a8\"],[0.3333333333333333,\"#9c179e\"],[0.4444444444444444,\"#bd3786\"],[0.5555555555555556,\"#d8576b\"],[0.6666666666666666,\"#ed7953\"],[0.7777777777777778,\"#fb9f3a\"],[0.8888888888888888,\"#fdca26\"],[1.0,\"#f0f921\"]]}],\"surface\":[{\"type\":\"surface\",\"colorbar\":{\"outlinewidth\":0,\"ticks\":\"\"},\"colorscale\":[[0.0,\"#0d0887\"],[0.1111111111111111,\"#46039f\"],[0.2222222222222222,\"#7201a8\"],[0.3333333333333333,\"#9c179e\"],[0.4444444444444444,\"#bd3786\"],[0.5555555555555556,\"#d8576b\"],[0.6666666666666666,\"#ed7953\"],[0.7777777777777778,\"#fb9f3a\"],[0.8888888888888888,\"#fdca26\"],[1.0,\"#f0f921\"]]}],\"mesh3d\":[{\"type\":\"mesh3d\",\"colorbar\":{\"outlinewidth\":0,\"ticks\":\"\"}}],\"scatter\":[{\"fillpattern\":{\"fillmode\":\"overlay\",\"size\":10,\"solidity\":0.2},\"type\":\"scatter\"}],\"parcoords\":[{\"type\":\"parcoords\",\"line\":{\"colorbar\":{\"outlinewidth\":0,\"ticks\":\"\"}}}],\"scatterpolargl\":[{\"type\":\"scatterpolargl\",\"marker\":{\"colorbar\":{\"outlinewidth\":0,\"ticks\":\"\"}}}],\"bar\":[{\"error_x\":{\"color\":\"#2a3f5f\"},\"error_y\":{\"color\":\"#2a3f5f\"},\"marker\":{\"line\":{\"color\":\"#E5ECF6\",\"width\":0.5},\"pattern\":{\"fillmode\":\"overlay\",\"size\":10,\"solidity\":0.2}},\"type\":\"bar\"}],\"scattergeo\":[{\"type\":\"scattergeo\",\"marker\":{\"colorbar\":{\"outlinewidth\":0,\"ticks\":\"\"}}}],\"scatterpolar\":[{\"type\":\"scatterpolar\",\"marker\":{\"colorbar\":{\"outlinewidth\":0,\"ticks\":\"\"}}}],\"histogram\":[{\"marker\":{\"pattern\":{\"fillmode\":\"overlay\",\"size\":10,\"solidity\":0.2}},\"type\":\"histogram\"}],\"scattergl\":[{\"type\":\"scattergl\",\"marker\":{\"colorbar\":{\"outlinewidth\":0,\"ticks\":\"\"}}}],\"scatter3d\":[{\"type\":\"scatter3d\",\"line\":{\"colorbar\":{\"outlinewidth\":0,\"ticks\":\"\"}},\"marker\":{\"colorbar\":{\"outlinewidth\":0,\"ticks\":\"\"}}}],\"scattermapbox\":[{\"type\":\"scattermapbox\",\"marker\":{\"colorbar\":{\"outlinewidth\":0,\"ticks\":\"\"}}}],\"scatterternary\":[{\"type\":\"scatterternary\",\"marker\":{\"colorbar\":{\"outlinewidth\":0,\"ticks\":\"\"}}}],\"scattercarpet\":[{\"type\":\"scattercarpet\",\"marker\":{\"colorbar\":{\"outlinewidth\":0,\"ticks\":\"\"}}}],\"carpet\":[{\"aaxis\":{\"endlinecolor\":\"#2a3f5f\",\"gridcolor\":\"white\",\"linecolor\":\"white\",\"minorgridcolor\":\"white\",\"startlinecolor\":\"#2a3f5f\"},\"baxis\":{\"endlinecolor\":\"#2a3f5f\",\"gridcolor\":\"white\",\"linecolor\":\"white\",\"minorgridcolor\":\"white\",\"startlinecolor\":\"#2a3f5f\"},\"type\":\"carpet\"}],\"table\":[{\"cells\":{\"fill\":{\"color\":\"#EBF0F8\"},\"line\":{\"color\":\"white\"}},\"header\":{\"fill\":{\"color\":\"#C8D4E3\"},\"line\":{\"color\":\"white\"}},\"type\":\"table\"}],\"barpolar\":[{\"marker\":{\"line\":{\"color\":\"#E5ECF6\",\"width\":0.5},\"pattern\":{\"fillmode\":\"overlay\",\"size\":10,\"solidity\":0.2}},\"type\":\"barpolar\"}],\"pie\":[{\"automargin\":true,\"type\":\"pie\"}]},\"layout\":{\"autotypenumbers\":\"strict\",\"colorway\":[\"#636efa\",\"#EF553B\",\"#00cc96\",\"#ab63fa\",\"#FFA15A\",\"#19d3f3\",\"#FF6692\",\"#B6E880\",\"#FF97FF\",\"#FECB52\"],\"font\":{\"color\":\"#2a3f5f\"},\"hovermode\":\"closest\",\"hoverlabel\":{\"align\":\"left\"},\"paper_bgcolor\":\"white\",\"plot_bgcolor\":\"#E5ECF6\",\"polar\":{\"bgcolor\":\"#E5ECF6\",\"angularaxis\":{\"gridcolor\":\"white\",\"linecolor\":\"white\",\"ticks\":\"\"},\"radialaxis\":{\"gridcolor\":\"white\",\"linecolor\":\"white\",\"ticks\":\"\"}},\"ternary\":{\"bgcolor\":\"#E5ECF6\",\"aaxis\":{\"gridcolor\":\"white\",\"linecolor\":\"white\",\"ticks\":\"\"},\"baxis\":{\"gridcolor\":\"white\",\"linecolor\":\"white\",\"ticks\":\"\"},\"caxis\":{\"gridcolor\":\"white\",\"linecolor\":\"white\",\"ticks\":\"\"}},\"coloraxis\":{\"colorbar\":{\"outlinewidth\":0,\"ticks\":\"\"}},\"colorscale\":{\"sequential\":[[0.0,\"#0d0887\"],[0.1111111111111111,\"#46039f\"],[0.2222222222222222,\"#7201a8\"],[0.3333333333333333,\"#9c179e\"],[0.4444444444444444,\"#bd3786\"],[0.5555555555555556,\"#d8576b\"],[0.6666666666666666,\"#ed7953\"],[0.7777777777777778,\"#fb9f3a\"],[0.8888888888888888,\"#fdca26\"],[1.0,\"#f0f921\"]],\"sequentialminus\":[[0.0,\"#0d0887\"],[0.1111111111111111,\"#46039f\"],[0.2222222222222222,\"#7201a8\"],[0.3333333333333333,\"#9c179e\"],[0.4444444444444444,\"#bd3786\"],[0.5555555555555556,\"#d8576b\"],[0.6666666666666666,\"#ed7953\"],[0.7777777777777778,\"#fb9f3a\"],[0.8888888888888888,\"#fdca26\"],[1.0,\"#f0f921\"]],\"diverging\":[[0,\"#8e0152\"],[0.1,\"#c51b7d\"],[0.2,\"#de77ae\"],[0.3,\"#f1b6da\"],[0.4,\"#fde0ef\"],[0.5,\"#f7f7f7\"],[0.6,\"#e6f5d0\"],[0.7,\"#b8e186\"],[0.8,\"#7fbc41\"],[0.9,\"#4d9221\"],[1,\"#276419\"]]},\"xaxis\":{\"gridcolor\":\"white\",\"linecolor\":\"white\",\"ticks\":\"\",\"title\":{\"standoff\":15},\"zerolinecolor\":\"white\",\"automargin\":true,\"zerolinewidth\":2},\"yaxis\":{\"gridcolor\":\"white\",\"linecolor\":\"white\",\"ticks\":\"\",\"title\":{\"standoff\":15},\"zerolinecolor\":\"white\",\"automargin\":true,\"zerolinewidth\":2},\"scene\":{\"xaxis\":{\"backgroundcolor\":\"#E5ECF6\",\"gridcolor\":\"white\",\"linecolor\":\"white\",\"showbackground\":true,\"ticks\":\"\",\"zerolinecolor\":\"white\",\"gridwidth\":2},\"yaxis\":{\"backgroundcolor\":\"#E5ECF6\",\"gridcolor\":\"white\",\"linecolor\":\"white\",\"showbackground\":true,\"ticks\":\"\",\"zerolinecolor\":\"white\",\"gridwidth\":2},\"zaxis\":{\"backgroundcolor\":\"#E5ECF6\",\"gridcolor\":\"white\",\"linecolor\":\"white\",\"showbackground\":true,\"ticks\":\"\",\"zerolinecolor\":\"white\",\"gridwidth\":2}},\"shapedefaults\":{\"line\":{\"color\":\"#2a3f5f\"}},\"annotationdefaults\":{\"arrowcolor\":\"#2a3f5f\",\"arrowhead\":0,\"arrowwidth\":1},\"geo\":{\"bgcolor\":\"white\",\"landcolor\":\"#E5ECF6\",\"subunitcolor\":\"white\",\"showland\":true,\"showlakes\":true,\"lakecolor\":\"white\"},\"title\":{\"x\":0.05},\"mapbox\":{\"style\":\"light\"}}},\"title\":{\"text\":\"Word2Vec - Visualizzazione embedding con TSNE\"}},                        {\"responsive\": true}                    ).then(function(){\n",
       "                            \n",
       "var gd = document.getElementById('c65abb1a-d454-4d73-b17a-26f14f29f6eb');\n",
       "var x = new MutationObserver(function (mutations, observer) {{\n",
       "        var display = window.getComputedStyle(gd).display;\n",
       "        if (!display || display === 'none') {{\n",
       "            console.log([gd, 'removed!']);\n",
       "            Plotly.purge(gd);\n",
       "            observer.disconnect();\n",
       "        }}\n",
       "}});\n",
       "\n",
       "// Listen for the removal of the full notebook cells\n",
       "var notebookContainer = gd.closest('#notebook-container');\n",
       "if (notebookContainer) {{\n",
       "    x.observe(notebookContainer, {childList: true});\n",
       "}}\n",
       "\n",
       "// Listen for the clearing of the current output cell\n",
       "var outputEl = gd.closest('.output');\n",
       "if (outputEl) {{\n",
       "    x.observe(outputEl, {childList: true});\n",
       "}}\n",
       "\n",
       "                        })                };                });            </script>        </div>"
      ]
     },
     "metadata": {},
     "output_type": "display_data"
    }
   ],
   "source": [
    "import plotly.graph_objs as go\n",
    "fig = go.Figure()\n",
    "trace = go.Scatter(x=x_vals, y=y_vals, mode='markers', text=labels)\n",
    "fig.add_trace(trace)\n",
    "fig.update_layout(title=\"Word2Vec - Visualizzazione embedding con TSNE\")\n",
    "fig.show()"
   ]
  },
  {
   "cell_type": "code",
   "execution_count": 19,
   "id": "12f6a531",
   "metadata": {
    "execution": {
     "iopub.execute_input": "2023-04-22T10:23:39.615251Z",
     "iopub.status.busy": "2023-04-22T10:23:39.614574Z",
     "iopub.status.idle": "2023-04-22T10:23:39.622031Z",
     "shell.execute_reply": "2023-04-22T10:23:39.620703Z"
    },
    "papermill": {
     "duration": 0.02109,
     "end_time": "2023-04-22T10:23:39.624736",
     "exception": false,
     "start_time": "2023-04-22T10:23:39.603646",
     "status": "completed"
    },
    "tags": []
   },
   "outputs": [],
   "source": [
    "def sent_vect(sent):\n",
    "    size=model.wv.vector_size\n",
    "    wv_res=np.zeros(size)\n",
    "    ctr=1\n",
    "    for w in sent:\n",
    "        if w in model.wv:\n",
    "            ctr+=1\n",
    "            wv_res+=model.wv[w]\n",
    "    wv_res=wv_res/ctr\n",
    "    return wv_res"
   ]
  },
  {
   "cell_type": "code",
   "execution_count": 20,
   "id": "949f6227",
   "metadata": {
    "execution": {
     "iopub.execute_input": "2023-04-22T10:23:39.646588Z",
     "iopub.status.busy": "2023-04-22T10:23:39.645492Z",
     "iopub.status.idle": "2023-04-22T10:23:39.736600Z",
     "shell.execute_reply": "2023-04-22T10:23:39.735461Z"
    },
    "papermill": {
     "duration": 0.104932,
     "end_time": "2023-04-22T10:23:39.739381",
     "exception": false,
     "start_time": "2023-04-22T10:23:39.634449",
     "status": "completed"
    },
    "tags": []
   },
   "outputs": [],
   "source": [
    "df['sent_vect']=df['text'].apply(sent_vect)"
   ]
  },
  {
   "cell_type": "code",
   "execution_count": 21,
   "id": "895f32d4",
   "metadata": {
    "execution": {
     "iopub.execute_input": "2023-04-22T10:23:39.761348Z",
     "iopub.status.busy": "2023-04-22T10:23:39.760347Z",
     "iopub.status.idle": "2023-04-22T10:23:39.771523Z",
     "shell.execute_reply": "2023-04-22T10:23:39.770342Z"
    },
    "papermill": {
     "duration": 0.024638,
     "end_time": "2023-04-22T10:23:39.773791",
     "exception": false,
     "start_time": "2023-04-22T10:23:39.749153",
     "status": "completed"
    },
    "tags": []
   },
   "outputs": [
    {
     "data": {
      "text/plain": [
       "{'Psoriasis': 0,\n",
       " 'Varicose Veins': 1,\n",
       " 'Typhoid': 2,\n",
       " 'Chicken pox': 3,\n",
       " 'Impetigo': 4,\n",
       " 'Dengue': 5,\n",
       " 'Fungal infection': 6,\n",
       " 'Common Cold': 7,\n",
       " 'Pneumonia': 8,\n",
       " 'Dimorphic Hemorrhoids': 9,\n",
       " 'Arthritis': 10,\n",
       " 'Acne': 11,\n",
       " 'Bronchial Asthma': 12,\n",
       " 'Hypertension': 13,\n",
       " 'Migraine': 14,\n",
       " 'Cervical spondylosis': 15,\n",
       " 'Jaundice': 16,\n",
       " 'Malaria': 17,\n",
       " 'urinary tract infection': 18,\n",
       " 'allergy': 19,\n",
       " 'gastroesophageal reflux disease': 20,\n",
       " 'drug reaction': 21,\n",
       " 'peptic ulcer disease': 22,\n",
       " 'diabetes': 23}"
      ]
     },
     "execution_count": 21,
     "metadata": {},
     "output_type": "execute_result"
    }
   ],
   "source": [
    "temp=list(enumerate(df['label'].unique()))\n",
    "label={}\n",
    "for i,j in temp:\n",
    "    label[j]=i\n",
    "label"
   ]
  },
  {
   "cell_type": "code",
   "execution_count": 22,
   "id": "fd39cb0e",
   "metadata": {
    "execution": {
     "iopub.execute_input": "2023-04-22T10:23:39.795448Z",
     "iopub.status.busy": "2023-04-22T10:23:39.794609Z",
     "iopub.status.idle": "2023-04-22T10:23:39.801250Z",
     "shell.execute_reply": "2023-04-22T10:23:39.800274Z"
    },
    "papermill": {
     "duration": 0.020227,
     "end_time": "2023-04-22T10:23:39.803645",
     "exception": false,
     "start_time": "2023-04-22T10:23:39.783418",
     "status": "completed"
    },
    "tags": []
   },
   "outputs": [],
   "source": [
    "def labelling(disease):\n",
    "    return label[disease]\n",
    "df['label_num']=df['label'].apply(labelling)"
   ]
  },
  {
   "cell_type": "code",
   "execution_count": 23,
   "id": "69f3081f",
   "metadata": {
    "execution": {
     "iopub.execute_input": "2023-04-22T10:23:39.824946Z",
     "iopub.status.busy": "2023-04-22T10:23:39.824348Z",
     "iopub.status.idle": "2023-04-22T10:23:39.834469Z",
     "shell.execute_reply": "2023-04-22T10:23:39.833209Z"
    },
    "papermill": {
     "duration": 0.023602,
     "end_time": "2023-04-22T10:23:39.836981",
     "exception": false,
     "start_time": "2023-04-22T10:23:39.813379",
     "status": "completed"
    },
    "tags": []
   },
   "outputs": [
    {
     "data": {
      "text/plain": [
       "label        object\n",
       "text         object\n",
       "sent_vect    object\n",
       "label_num    object\n",
       "dtype: object"
      ]
     },
     "execution_count": 23,
     "metadata": {},
     "output_type": "execute_result"
    }
   ],
   "source": [
    "df['label_num']=df['label_num'].astype('object')\n",
    "df.dtypes"
   ]
  },
  {
   "cell_type": "code",
   "execution_count": 24,
   "id": "b28233f1",
   "metadata": {
    "execution": {
     "iopub.execute_input": "2023-04-22T10:23:39.859653Z",
     "iopub.status.busy": "2023-04-22T10:23:39.859214Z",
     "iopub.status.idle": "2023-04-22T10:23:39.867387Z",
     "shell.execute_reply": "2023-04-22T10:23:39.866451Z"
    },
    "papermill": {
     "duration": 0.023338,
     "end_time": "2023-04-22T10:23:39.870255",
     "exception": false,
     "start_time": "2023-04-22T10:23:39.846917",
     "status": "completed"
    },
    "tags": []
   },
   "outputs": [
    {
     "name": "stdout",
     "output_type": "stream",
     "text": [
      "(960,) (240,) (960,) (240,)\n"
     ]
    }
   ],
   "source": [
    "x=df['sent_vect']\n",
    "y=df['label_num']\n",
    "from sklearn.model_selection import train_test_split\n",
    "x_train,x_test,y_train,y_test=train_test_split(x,y,test_size=0.2,random_state=0)\n",
    "print(x_train.shape,x_test.shape,y_train.shape,y_test.shape)"
   ]
  },
  {
   "cell_type": "code",
   "execution_count": 25,
   "id": "90c43227",
   "metadata": {
    "execution": {
     "iopub.execute_input": "2023-04-22T10:23:39.892392Z",
     "iopub.status.busy": "2023-04-22T10:23:39.891344Z",
     "iopub.status.idle": "2023-04-22T10:23:39.904745Z",
     "shell.execute_reply": "2023-04-22T10:23:39.903508Z"
    },
    "papermill": {
     "duration": 0.027198,
     "end_time": "2023-04-22T10:23:39.907291",
     "exception": false,
     "start_time": "2023-04-22T10:23:39.880093",
     "status": "completed"
    },
    "tags": []
   },
   "outputs": [],
   "source": [
    "from sklearn.naive_bayes import GaussianNB\n",
    "obj=GaussianNB()\n",
    "x_train=x_train.to_list()\n",
    "y_train=y_train.to_list()"
   ]
  },
  {
   "cell_type": "code",
   "execution_count": 26,
   "id": "1e16e896",
   "metadata": {
    "execution": {
     "iopub.execute_input": "2023-04-22T10:23:39.930099Z",
     "iopub.status.busy": "2023-04-22T10:23:39.928838Z",
     "iopub.status.idle": "2023-04-22T10:23:39.946127Z",
     "shell.execute_reply": "2023-04-22T10:23:39.944784Z"
    },
    "papermill": {
     "duration": 0.031217,
     "end_time": "2023-04-22T10:23:39.948782",
     "exception": false,
     "start_time": "2023-04-22T10:23:39.917565",
     "status": "completed"
    },
    "tags": []
   },
   "outputs": [
    {
     "data": {
      "text/plain": [
       "GaussianNB()"
      ]
     },
     "execution_count": 26,
     "metadata": {},
     "output_type": "execute_result"
    }
   ],
   "source": [
    "obj.fit(x_train,y_train)"
   ]
  },
  {
   "cell_type": "code",
   "execution_count": 27,
   "id": "6783c243",
   "metadata": {
    "execution": {
     "iopub.execute_input": "2023-04-22T10:23:39.970776Z",
     "iopub.status.busy": "2023-04-22T10:23:39.970333Z",
     "iopub.status.idle": "2023-04-22T10:23:39.979473Z",
     "shell.execute_reply": "2023-04-22T10:23:39.978208Z"
    },
    "papermill": {
     "duration": 0.023403,
     "end_time": "2023-04-22T10:23:39.982260",
     "exception": false,
     "start_time": "2023-04-22T10:23:39.958857",
     "status": "completed"
    },
    "tags": []
   },
   "outputs": [],
   "source": [
    "from sklearn import metrics\n",
    "x_test=x_test.to_list()\n",
    "y_test=y_test.to_list()\n",
    "predicted=obj.predict(x_test)"
   ]
  },
  {
   "cell_type": "code",
   "execution_count": 28,
   "id": "b1245b73",
   "metadata": {
    "execution": {
     "iopub.execute_input": "2023-04-22T10:23:40.004923Z",
     "iopub.status.busy": "2023-04-22T10:23:40.004116Z",
     "iopub.status.idle": "2023-04-22T10:23:42.680031Z",
     "shell.execute_reply": "2023-04-22T10:23:42.678814Z"
    },
    "papermill": {
     "duration": 2.690297,
     "end_time": "2023-04-22T10:23:42.682680",
     "exception": false,
     "start_time": "2023-04-22T10:23:39.992383",
     "status": "completed"
    },
    "tags": []
   },
   "outputs": [
    {
     "name": "stderr",
     "output_type": "stream",
     "text": [
      "/opt/conda/lib/python3.7/site-packages/sklearn/utils/deprecation.py:87: FutureWarning:\n",
      "\n",
      "Function plot_confusion_matrix is deprecated; Function `plot_confusion_matrix` is deprecated in 1.0 and will be removed in 1.2. Use one of the class methods: ConfusionMatrixDisplay.from_predictions or ConfusionMatrixDisplay.from_estimator.\n",
      "\n"
     ]
    },
    {
     "data": {
      "text/plain": [
       "<Figure size 3000x3000 with 0 Axes>"
      ]
     },
     "metadata": {},
     "output_type": "display_data"
    },
    {
     "data": {
      "image/png": "[encoded data removed]",
      "text/plain": [
       "<Figure size 900x900 with 2 Axes>"
      ]
     },
     "metadata": {},
     "output_type": "display_data"
    }
   ],
   "source": [
    "import matplotlib.pyplot as plt \n",
    "plt.figure(figsize=(30,30))\n",
    "disp=metrics.plot_confusion_matrix(obj,x_test,y_test,cmap=plt.cm.Blues)\n",
    "fig = disp.ax_.get_figure() \n",
    "fig.set_figwidth(9)\n",
    "fig.set_figheight(9)  "
   ]
  },
  {
   "cell_type": "code",
   "execution_count": 29,
   "id": "31decd97",
   "metadata": {
    "execution": {
     "iopub.execute_input": "2023-04-22T10:23:42.707090Z",
     "iopub.status.busy": "2023-04-22T10:23:42.706296Z",
     "iopub.status.idle": "2023-04-22T10:23:42.716371Z",
     "shell.execute_reply": "2023-04-22T10:23:42.715346Z"
    },
    "papermill": {
     "duration": 0.024587,
     "end_time": "2023-04-22T10:23:42.718551",
     "exception": false,
     "start_time": "2023-04-22T10:23:42.693964",
     "status": "completed"
    },
    "tags": []
   },
   "outputs": [
    {
     "name": "stdout",
     "output_type": "stream",
     "text": [
      "accuraccy: 0.7041666666666667\n",
      "recall: 0.7041666666666667\n",
      "precision: 0.7041666666666667\n"
     ]
    }
   ],
   "source": [
    "print('accuraccy:',metrics.accuracy_score(y_test,predicted))\n",
    "print('recall:',metrics.recall_score(y_test,predicted,average='micro'))\n",
    "print('precision:',metrics.precision_score(y_test,predicted,average='micro'))\n"
   ]
  },
  {
   "cell_type": "code",
   "execution_count": null,
   "id": "c5c7465b",
   "metadata": {
    "papermill": {
     "duration": 0.010772,
     "end_time": "2023-04-22T10:23:42.740374",
     "exception": false,
     "start_time": "2023-04-22T10:23:42.729602",
     "status": "completed"
    },
    "tags": []
   },
   "outputs": [],
   "source": []
  }
 ],
 "metadata": {
  "kernelspec": {
   "display_name": "Python 3",
   "language": "python",
   "name": "python3"
  },
  "language_info": {
   "codemirror_mode": {
    "name": "ipython",
    "version": 3
   },
   "file_extension": ".py",
   "mimetype": "text/x-python",
   "name": "python",
   "nbconvert_exporter": "python",
   "pygments_lexer": "ipython3",
   "version": "3.7.12"
  },
  "papermill": {
   "default_parameters": {},
   "duration": 30.974485,
   "end_time": "2023-04-22T10:23:43.573514",
   "environment_variables": {},
   "exception": null,
   "input_path": "__notebook__.ipynb",
   "output_path": "__notebook__.ipynb",
   "parameters": {},
   "start_time": "2023-04-22T10:23:12.599029",
   "version": "2.4.0"
  }
 },
 "nbformat": 4,
 "nbformat_minor": 5
}
